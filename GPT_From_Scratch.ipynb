{
  "nbformat": 4,
  "nbformat_minor": 0,
  "metadata": {
    "colab": {
      "provenance": [],
      "gpuType": "T4"
    },
    "kernelspec": {
      "name": "python3",
      "display_name": "Python 3"
    },
    "language_info": {
      "name": "python"
    },
    "accelerator": "GPU"
  },
  "cells": [
    {
      "cell_type": "markdown",
      "source": [
        "<h2><b>GPT From Scratch</b></h2>\n",
        "\n",
        "This notebook demonstrates the implementation of the Transformers architecture from scratch using PyTorch. The resulting language model is trained on the entire script of the Modern Family TV Show, covering all seasons and episodes. This implementation aims to showcase the workings of the Transformers architecture and how it generates natural language output given an input string. No external libraries other than PyTorch are used."
      ],
      "metadata": {
        "id": "H2JhJGiSQS8c"
      }
    },
    {
      "cell_type": "code",
      "execution_count": 2,
      "metadata": {
        "id": "RlRVzYVWObnp"
      },
      "outputs": [],
      "source": [
        "# @title Importing Torch\n",
        "\n",
        "import torch\n",
        "import torch.nn as nn\n",
        "from torch.nn import functional as F"
      ]
    },
    {
      "cell_type": "code",
      "source": [
        "# @title Setting Hyperparameters\n",
        "\n",
        "batch_size = 32         # how many independent sequences will we process in parallel?\n",
        "block_size = 128        # what is the maximum context length for predictions?\n",
        "max_iters = 15000       # total number of training iterations\n",
        "eval_interval = 750     # how often to evaluate the model during training\n",
        "learning_rate = 1.5e-4  # learning rate for the optimizer\n",
        "device = 'cuda'         # device to run the model on ('cuda' in this case, you can also use 'cpu')\n",
        "eval_iters = 100        # number of iterations to use for evaluation\n",
        "n_embd = 256            # embedding dimension for the model\n",
        "n_head = 8              # number of heads in the multi-head self-attention layers\n",
        "n_layer = 6             # number of transformer blocks in the model\n",
        "dropout = 0.1           # dropout rate for regularization"
      ],
      "metadata": {
        "id": "nhldn8GOSpbh"
      },
      "execution_count": 21,
      "outputs": []
    },
    {
      "cell_type": "code",
      "source": [
        "# @title Extracting vocabulary\n",
        "\n",
        "# First we read the data\n",
        "with open(\"scripts.txt\", \"r\", encoding=\"utf-8\") as f:\n",
        "    text = f.read()\n",
        "\n",
        "print(f\"Length of dataset in characters: {len(text)}\")"
      ],
      "metadata": {
        "colab": {
          "base_uri": "https://localhost:8080/"
        },
        "id": "TpSAppKHTM7B",
        "outputId": "80f9828a-1b2d-4d53-ca5f-437bb6f99434"
      },
      "execution_count": 6,
      "outputs": [
        {
          "output_type": "stream",
          "name": "stdout",
          "text": [
            "Length of dataset in characters: 4939063\n"
          ]
        }
      ]
    },
    {
      "cell_type": "code",
      "source": [
        "# printing the first 1000 characters\n",
        "print(text[:1000])"
      ],
      "metadata": {
        "colab": {
          "base_uri": "https://localhost:8080/"
        },
        "id": "pjgWX1zoUeiQ",
        "outputId": "14f136a6-1622-4896-fb17-2518a0f5688f"
      },
      "execution_count": 7,
      "outputs": [
        {
          "output_type": "stream",
          "name": "stdout",
          "text": [
            "Kids, breakfast! Kids? Phil, would you get them? Yeah, just a sec.\n",
            " That is so - Kids, get down here! Why are you guys yelling at us? When we're way upstairs, just text me.\n",
            " All right, that's not gonna happen, and, wow, you're not wearing that outfit.\n",
            " What's wrong with it? - Honey, do you have anything to say to your daughter about her skirt? Sorry? Oh yeah, that looks really cute, sweetheart! Thanks! - No, it's way too short, people know you're a girl you don't need to prove it to them.\n",
            " Luke got his head stuck in the banister again.\n",
            " I got it.\n",
            " Where's the baby oil? - It's on our bedside tab I don't know, find it.\n",
            " Come on! I was out of control growing up.\n",
            " There, you know, I said it.\n",
            " I just don't want my kids to make the same bad mistakes I made.\n",
            " If Hayley never wakes up on a beach in Florida, half-naked I've done my job.\n",
            " OUR job.\n",
            " - Right I've done our job.\n",
            " That was a penalty! Gloria, they're 0 and 6, let's take it down a notch.\n",
            " We're very different.\n",
            " He's from the city.\n",
            " He \n"
          ]
        }
      ]
    },
    {
      "cell_type": "code",
      "source": [
        "# Then we find all the unique characters that occur in the script\n",
        "chars = sorted(list(set(text)))\n",
        "vocab_size = len(chars)\n",
        "print(\"\".join(chars))\n",
        "print(vocab_size)"
      ],
      "metadata": {
        "colab": {
          "base_uri": "https://localhost:8080/"
        },
        "id": "F2dvcKp4UZeF",
        "outputId": "1e8d1e81-d2cf-4ab4-9060-1cf2bc1b3026"
      },
      "execution_count": 8,
      "outputs": [
        {
          "output_type": "stream",
          "name": "stdout",
          "text": [
            "\t\n",
            "\u001f !\"#$%&'()*,-./0123456789:;?@ABCDEFGHIJKLMNOPQRSTUVWXYZ[]_abcdefghijklmnopqrstuvwxyz ¡¢£¤¨©ª­®±³´º¿ÂÃáâéíñóú\n",
            "117\n"
          ]
        }
      ]
    },
    {
      "cell_type": "code",
      "source": [
        "# @title Defining the Encoder and Decoder\n",
        "\n",
        "# create a mapping from characters to integers in order to prepare for tokenization\n",
        "string_to_integers = {char:i for i,char in enumerate(chars)}\n",
        "integers_to_string = {i:char for i,char in enumerate(chars)}\n",
        "\n",
        "# Define encoder and decoder functions\n",
        "encode = lambda s: [string_to_integers[c] for c in s]   # encoder : takes in string, outputs a list of integers\n",
        "decode = lambda l: ''.join([integers_to_string[i] for i in l])   # decoder : takes in list of integers, outputs a string\n",
        "\n",
        "# Example\n",
        "print(encode(\"This is an encoded message\"))\n",
        "print(decode([51, 68, 69, 79, 3, 69, 79, 3, 61, 74, 3, 65, 74, 63, 75, 64, 65, 64, 3, 73, 65, 79, 79, 61, 67, 65]))"
      ],
      "metadata": {
        "colab": {
          "base_uri": "https://localhost:8080/"
        },
        "id": "tYSVSzwAUm_B",
        "outputId": "1eb54268-5409-47ab-d4ee-dcd02a37405f"
      },
      "execution_count": 10,
      "outputs": [
        {
          "output_type": "stream",
          "name": "stdout",
          "text": [
            "[51, 68, 69, 79, 3, 69, 79, 3, 61, 74, 3, 65, 74, 63, 75, 64, 65, 64, 3, 73, 65, 79, 79, 61, 67, 65]\n",
            "This is an encoded message\n"
          ]
        }
      ]
    },
    {
      "cell_type": "code",
      "source": [
        "# @title Train and Test Data Split\n",
        "\n",
        "data = torch.tensor(encode(text), dtype=torch.long)\n",
        "n = int(0.9*len(data))   # first 90% will be train, rest validation\n",
        "train_data = data[:n]\n",
        "val_data = data[n:]"
      ],
      "metadata": {
        "id": "MTI-4oxMVEo_"
      },
      "execution_count": 11,
      "outputs": []
    },
    {
      "cell_type": "code",
      "source": [
        "# @title Function to get a sample batch out of the training data\n",
        "\n",
        "def get_batch(split):\n",
        "    \"\"\" Generate a small batch of data of inputs x and targets y \"\"\"\n",
        "    data = train_data if split == \"train\" else val_data  # use training data if split is \"train\", otherwise use validation data\n",
        "    ix = torch.randint(len(data) - block_size, (batch_size,))  # generate random starting points for each sequence in the batch\n",
        "    x = torch.stack([data[i:i+block_size] for i in ix])  # create a batch of input sequences of length 'block_size'\n",
        "    y = torch.stack([data[i+1:i+block_size+1] for i in ix])  # create a batch of target sequences, shifted by one position\n",
        "    x, y = x.to(device), y.to(device)  # move the input and target batches to the specified device (GPU or CPU)\n",
        "    return x, y  # return the input and target batches"
      ],
      "metadata": {
        "id": "4iCUdPWfVPkd"
      },
      "execution_count": 12,
      "outputs": []
    },
    {
      "cell_type": "code",
      "source": [
        "# @title Estimate Loss for Training and Validation Data\n",
        "\n",
        "# model = None   # initialize model\n",
        "\n",
        "@torch.no_grad()  # disable gradient computation for efficiency\n",
        "def estimate_loss():\n",
        "    out = {}  # dictionary to store the average loss for training and validation\n",
        "    model.eval()  # set the model to evaluation mode\n",
        "    for split in [\"train\", \"val\"]:  # iterate over training and validation splits\n",
        "        losses = torch.zeros(eval_iters)  # initialize an array to store losses for each iteration\n",
        "        for k in range(eval_iters):  # repeat evaluation for a fixed number of iterations\n",
        "            x, y = get_batch(split)  # get a batch of input and target sequences\n",
        "            logits, loss = model(x, y)  # get the model's predictions and the corresponding loss\n",
        "            losses[k] = loss.item()  # store the loss value\n",
        "        out[split] = losses.mean()  # calculate and store the average loss for this split\n",
        "    model.train()  # set the model back to training mode\n",
        "    return out  # return the dictionary containing average losses for training and validation"
      ],
      "metadata": {
        "id": "FRkmGpRHV4ts"
      },
      "execution_count": 13,
      "outputs": []
    },
    {
      "cell_type": "markdown",
      "source": [
        "<h2>Transformers Architecture</h2>\n",
        "\n",
        "![Screenshot-from-2019-06-17-19-53-10.webp](data:image/webp;base64,UklGRiKqAABXRUJQVlA4TBaqAAAvd0F5AI0wahtJklKzv9TyBzwnhIj+TwDnn47tWUDf+EpUXwCPxEfP45I8YMqDqMkDBdDdAFqwLndVVOMyB9nkLkISN9mBoqKgLFOgnbaLGi+TBZzkJrII3LDyCmhtpAW7MNEJWH1/prmMMdEvVVkqqiii7NCYoCYJhy4n9AgWoDepYwC1F+tYmxfnE7htJEmSiPHf4ESou9fb9+muI9k2rb732bZ2/vG8IOyrTzNt2/gIf4zDUe3o/wTgbxYvXrzjCzdsiRcE8VcgPDzgjjhjgI8b2jY3xh4EYxf8mHtMNtxVTDHFFLsipQCwI+GND2hbW21rW5sLYwfGsLC2zW0OQHVrqy1wakwFsskGAKm0VLsjgMkmm2yAOqyfJm1nfmAMkMHnxvDliNbWB+EAGKOujQlQt1C9SFJn1Us1SwBSSqVJ4ThqlgLQFykFbjrD/0tEBICI6AMAL/+qWBC0kZr78+8aGGQKImIC2OZv7lS5vlJ+DqoXgHLrYRpETtWN6g1nvmWmD+8Jj6oTRXVX//s6/ZA184JJ4Cm+shQBZRXasE1SsoeSc0hCzw/6//eS2ljnnO6e6cmBJJICSCKjLIIAIREEIouMyBIooZwDOSOisHImjjQokEGAEiCiQMIgchDZQmKmZ6a7p9M5f3TT5/x+3X3m3Px2+m1QO6KunnZoB2azyhosvbXjW98bWtog963mrgpZW8z1yipujdPX8b1hNi876BbGvvb0Zlyz4efYTqPachxqdeU0c9ex1sfhbERljXSD0zhsHt3gQbJt15IkSeL1vkBVV1UzCzD/wWFkSJF8Eflv47ZtW7UbSX1sSbYMWcxcb5X1/9/CzFwVTJL2jAnQx/7/+zttFeGgUihkkB1SWjrIzd4JZCfQUFLSMJrZvffee++9924pLSmXFDKg2XuRSfaATGcUMm8oFN9xjg03J9jnzyci+gLXPyUCgWyxhGoHGRGR44gXMehjwQ8EghRbWGXIiEsRysGYj4LKi8iHQpAVuxFRKBwjC0z0Q/RLBMJJOAIRQCDiIMQxGQLBF8SPkQhhBxGVYSIyQMciRMQE8IP//5mcSNLzPOmzfEkqqeQN8sgiA8LJC0kYISE8whsZQHgvQEhIeBAIhGiEkfBGWGElvJGEkJBHFnlXPit95vP8IVGokILSn9+ui6t1YlxdRfLs9SV90bWOZm/QKH5sRU+u0Y3T1Z00q3jYNnUO+lYdm52M+40R5wmaPW01d0OO6eM2xBIZ20dkH9Fo/AysU9fQWtec0ZpqJvpytMvU9sFMXLMbwQ7TKDpWt23bru22VWtjrrXjiQAzZTG4+FGh3P//CKVXXeVAUgJwAJyz4xrd223brqXG1tZan3PtCAiEQOd6/93JS6lEZN6/fg/Ikwlc99X7NPJBROy1Zo8JiID/SpOSICEIARCAKGTUSMbG5U0CFcICECiUSBDTUULlTkAY5LAnp9CMG3MDJIgQBYtGlOWSYJcvqQgez72ZmgU4iw2YmNUBCcBL481/+V3/EIkQoilp/dVTsChnQj7zcn9uBrAtd2ZTPiEAAPqmKw+dhkhlkk9DBCHG+ONHkuDyJY87sgp/YkAGHtdhUZI7c10mAz15JAuxJfc+6VsX/IRHP3eKL77YY2/7hdlZj1hmuM/9igfa5UwD7J1IeT58tGMSTuJEXgmEeQ4TsgK/8D1McMGfp+c3/W7tfQk8qOXdLzq0TDnzgLqlWRgryKoNg5tjAWYij6DwBa6c44qTzJ9D5A79hptNHo3Ll6YprnPxsULRIX7e/n9x6atS/V9HLIa0d0oxOX7SjjYWAtmULyfpfX7sr/l7qu63+i1Petfxym4w/oOKIX3OtK78+A5zJPI0gz+jQBqDVM4UiN+Y/4Eh2Gb1b7/G7z3zm7nVO0+7f7uU5Pd/qX/dBL/a/SGxebe7pnSrjYlRuZKDCj/ZJyqOdZ2w5Hf3vkD3h21XfeH9jxt4rh2f3fQrh2Gkr/nUoZY7H5f/tQOHN+XNFn2emvZqnijutUb/+UPUO1vBTXPPGnKOoF1eFGduOQ39Ptg9ljcZOaRAViRESjq3GS0GXBKSiHtByOENsMqZMGAQIFuAgtNdPskhRuSAZGFkVM5jXIqMKN0ysijdER8PqWUjQEa2TPmuITMWRWGVBoFII5okCoRRSJMIYFA5j0RDDQ2xAKshRkUjrAipUxBEsMp3nPHbXWPw7nOdEgRycCTek7kLaZQVAjFOOe6XFpQ6ncWX6nTIeFc4/5PO3vwelVcLCqTCIQvY5TCB6x1ykazYab15oyJGkKV/FN4ARiECblHjPBR4TqzfSS0q4q+87aC6ShyLYFQvYuFyF4n5vm9lYK5+I6tuwLnp8cSPbebt219pgrWvS4gP79r+M7tznvjvfzfKzG5WvNdqvqF67rpxi6s3cPGJE59jr5TkVvM+gkC57CbHfiLw8htVP3SV5Trv8xkzT7j7Fy1Vc+2LP/nWPzLUn+0wercNf6b5o36uzUy/POJnLTro3Jl2XKF99VS5HgNu0HrvTep/8IfjEh9rd+BSTOvymNnnXitU3r7uN4/r8IGBH7zCWFS+7b3jz9spxztO3W7HG56T32nb7NRNr8JHZt2tOqtnpqzovXKvqnbTZPP+1PI0//XwhFHeO/fYUQ3KY26yQYeKCt+4/ayXO5kx/2DIpPjntTMvM1dFfuOf3Y1Fztz5tZvUXaZnxnBrPeQcU1gUo0PimO9Xvdoag/dYZe3Hf2/TURXk8ph0xpUBPLCvQw9busWDL7vI7Ek6zxvf+Nq7jdahU+o8FrFdDKKkjAmcVkgLPzjYhHfe811jK5TP1AYrSaOttF+/T4aXndyn9QdCvMefzvnZh8Lpuf5nDtibUL/NreoRHRF7K7p57pow9Z126D7SMWN17qhQ7iKhXyIpjXSsJBy4/9dv2/qAZd+x+Kxv77f/Tustt3/fx23ZpvpFHxh973EH7dtUyTM0YBoq7niDwoCher3yfbVv3HXaM15WO+cZ5TG0mH1mIeBdw+C3rjDLZqfNd66jqzdeu+f592KCyT/a76gDpnxHzZ0GTvWjYUTOsYWXbMvWnZ52fDfvs9sqzWbaievPUhimqezylxRuCEJwFUgbjEpdDRZU5gkSlXmW5npQmccd4GT/P+iwJeAhdynkMGPydScQRbmrhCxVKYmiY6KaLMZgUidFkqhESS4h5rNUCTGkSVQSUpw6yZGlylISg8tdCKRgWUTAqY1MSVkGyK0xcz44lSNER4hFiFZqUjklClMOSwiEQCAQ09EhLvO141sI0VBRqgAEQiqPcTwkxYlvc+K1QmpRrm7ruR/WjuPaopw9SWfZj0OPPihLVb7m4BsOPnVtbktM+XqD2HSHrmeMXXz2aqGczWSDHsx5RwionI2QpYEsweVtppAXShNZ5WukYAeM7gAHTEgWKKcAY8CAMcYQ6hQTJgLlGToWMQcDXoApCTVZKzBBAgo+3CgpHFIttCncGY2FmBARRfy+NwxwDAukx7V4s7umnZjjCLULVmQ2wnMVkRCl0ZB/9t1w45TvCA56gTvhd37tuUZMiMikXvXdk72/rvLX12OfN9whLYkhm8uzIoxQC2W5MTHAiG0uwiaqaP23EVrhIO101MNW+7Sz7+7xZ1eP5ydGqA8Gd/3+3cLfv++WYCEIcZJUvjgIXDFN9WkTR1AWECuIvKocJIK1goAFBCwgABbQWKlRZI1Y+GeF63wZJERJeuhwW5dLubIQ4rlf6FA9j4raL6aSDXWiThjKQxOb6C9/57eLirqaHplAWwoBE2IxkUIWJrDMtZkIjSSCXm0hg7xs63hCbqjECATCpI1PR0hMPAnWvVwv/fEv1rPH2a2jMrgU777+sJe0pEHFBmtbXJdI1o6ff53F4IiY8sXv+vRUDYrt1+I05QORyUCuEY6QSL41sGCChABIEEIa8YUucoxt/Cf5wsMdSHt5gC5OsP8mbmUcIKfRJy+3l6TsFWk6HVDtFkfa8qqU64LUViUetrdcEmR28aK8XImpJbOosJUU0JdNjhCQIJHIxdjh2P27BqcVhtliVlgzaIoP/fCK0jYeWGsb8roPmibqC2e8qnq6rYm+cedvVxld1l4gLWpV1/3tZzKEZkVbDC4ayLF/9jTtZvf6s7NphQnKc19/9DLaFgZQiW5TThzsavDneOKULb8/htFVtaOs8ipH/XBIBktt+K7incookxy4fFtqQzU9eOmcjSQfaFQautMd1ykkW33Xz+2CYlAFSiYkYSyUn3FkQZ2de5o0puXoHxbEoTS1ZkyGwQw56t73a/xR+aVTUog/BEmKQlAEn1FEGl7+Z//eYsZPErVnKkvRb9jDpMNhIBDHhBsBUDRzF51M2xWN/5QgK4L1sNp3hzuOQq1NiQLbz7ViDACqyhP8mNOkCVMylUaIZKyLnAv+YTtMsTV7fFMwOCTuXukYbpLcIsNIR8ikBAoBQFJIAE8Nkt2/XxnbZcU0PzuUwlS0gWtVcq1VwnKTx136JNlNLvdcfeV/CFIHVlo9OEyf8ZA+9iY7Sq8eR/52PxDB1rElHiD7/RlX0QMOiVSDxKnEjbgfnX432491rzRKVWOGnmV71NnHzLXem+VF88nPLs9OvmyMmfNH487Rh7xM8e7tez3JyU1fZNfrqxb82rjvfvu47y353TTXZv/Zs5820ftZ//eH4+8mgII4KiwP60FwNVU0OULkpU1aQ9GsFCVGjEnniSzPHX9Y//f5VU2lQVDhVtesesLmDC9q3z80j//1jf+0Lrjym99iFVrywkbMeFUoc413c7z0T1f4evqkr/MJd0fAKqguTBBihSbr0n4P8Mu0iREZewIzcyqzXI1xKlpNV5UGUNVVMJc0VUVaaIUDCqx6/yU1IBS0gAIm6kJVwwgOA3YYQxSxwEpvJ1wc9LDrM3tMggQy/nO4N4eC8jI9v/Bw6gwTIyLEAg6evKJTYnCOzETzSwriUP07W/OJMEyQQKCxcOOP7cxsgeMzBTCwEBMjgCjPMXmVW7Mjv34rPN8hgJYCkTiWeNE28FG8I+nTKQBEQtnz9+AwuC8X34CkT+cSyzJYkIGmC89gNSAk1o09nbP4XQ9iJwZm0R4k2AUvnTagI9MhJtpgkikPSSMLJtaEZCVBa4hEu5KVSECLkhsMjDHGOVJgokQ08h2DWTARZlkSIfSTPpEgFSiLruRDhxjUESH1Z6BhxJfo0BJaEVpwJQQwIUIY++PrsI/1kA2YM4whAo8OZ1g35i6Z1UeShlKtGcPm0F/LRBYJURl7Nv9qb05x2p+KCkEcAYBEQaolOoVQVnBC9cHOWixKJyAmRsRn8545zsf1zo/tnTANtTHgpR82GQH4KW1MRgCwYhJRaFUrTXvcfvEOxzdH97o/0+L5CRFSJ8NF9358Z5CP6K0oQJEzwYB8VESkSAMAoWRKIVgBAVgBEFiNhhEXR1dbm2c3mHn2zrwQGSRGSaOQDYBiYPrCWfLmJp0geOKXzysWT5aOX5uC3rICJMJbYLXZaHwLIUOip+gg5HkKLpBKkAiELBkDhAAQ4uas2IiJGmf5oRZThlcJSBwJXAp4a8pv+eJfd6cvzxGij7ZZKTEqkjUAmCAhgBGIrRUhKxgmtta86I/XWu5nsoStkruPqA4APeZLN8zsblvY71KQ1ZvScc/6wSu9zdxtz2OuJGIYBAnW4BYjBIDAQMEwUZPe4GsaLY+n1xw/9MHb6MtH9jsM7ja+v6raj5aPVfPTlT461NV8eTSAFsaG/U5PK4KxABMsMWYIgNVqnWsVIHyuRBtvzRa+dn1xX2Mr0MDw1aptbz2DR32KQNE7PLFCZ0GYEEhUT7MSaLPZ5tmQQRBetUI0T+IyhIzk5TLEK5xpVZqPFG3dMPp/sMRRYGJHACSI0VnRAjl87GNPSIlG416OQOgtXcidBNkVc0xr4uxhO5f7L49T5u6suhhOkSbGcSCiF6QECgFQxiL6uW8lh9blodUFWs3cpEBxdAeheSv6/7OsHPeutWf9wgRFWWPxFFu38Ea+TcvoBJmALE0mJkZMoEBiYTKVrjSLAURXjP7ksdj3i1MXwodXY+dYqiY2adhveaddaSwURFizx81lRGGi7k7fYJFfsWSoIRZepp8KDZISIzKpa6LOflrj/PiT1U310QHnCiQA0KgRayzQSqakEumoEhWIEAThVJo3GAOzFlFBXTLRgBjWXJamA509+gk3Ev0EidCFuTiAMdZYTlGrZQwaawDU1zZECvVobKqvMRd/oL4msuEDr65FA2L5Vvz0ycmxv7QFhkyIAMZWP4idyLdaOK6aKwIVGDgdsJ9clr+WASwSogKNBQydEnvyTOajhSJGp2QBUUyIQKABCaeTqW9fnMPpgByDRIpIlIqC4zL+g1mXf7kiyZRjoEAkko3typT8/zPwPADrWKJZxn8cK0DtzuwMSTGxZtB3KX7vobxrZh5CHWxiTXyv2Za78e2/3JGWiAkjgYIcg7y6Tbkn3z4jHlEWCYqJBgGUMSk6B/HhrMR+vAtl0zM+ATCRINDIB5CFR6eMN3QzVuFpzEo+fhkwvVsAyFgKTBwAno/R2/O+UzkTD86HctZ0Y8QID2VQrZiAiWqZbRrgWSJhKMBLjX4C33EGGDEijcAE4tRrQ/VyO4vxaaO/3+S6KgTq486kL2ZldabHgAATAgK9NH58aX77P13O5lhT1DhbZU1wHFKRNcva6yFt253FuvlKH9fVoConbzuYp7KLYTVWJQwsEoXGfvGteRG30c9NQchylITj8trZ6rXm9sS1ZEb5rgNqLmm+/VLO7FL35SS7PX8kDAkmAmTQlfm54r47qyXVzSLyITlmwlGATSZTqJGMCpDnt7WjtOS8MGviC0QC0KBdjwNZUmsmmcMPsohUJmnmlPUNPooJOGUI0Y2ZGGqFykUWYqkEUMm2HM1c/KlDsEZKAMjwbZ8xsdZGyZTMBd14oeXIqXiTC+M9/F9Ld69v5CcFiyKhVd1uTRK/LxG1qML5g9vsJO8PASYA7FU+gr7fOCENKZmW7MPKdmAnf3MKoChvQ9ze/le4E86cmecXr52+flQQDfyZ+JM/7BskAvzknvz6HCowK2VyLMvaS5l0P7bzVtQhIzcaBm5MmBAzALBR3GislQyc3cxGQTgJZgAWzGNJkZY+p/e4Q7sJu+40b8ZWNVVhRGmgEYXTwRaZITsgTwmBtx3Lh1/bzcYCqR3ye5fw5YH7y9Z72//8cxgN8yoGfcuNgSqJXnEA0La/JWvQvQAAt8u3hJftfKHvdUN/g78C0J4XzLJbCYlql++ATsdS1X7nX6bb/vvrhfvjfX181vQepiYVHdIGYilQ9VNDpy8eD30kAIP+z2GT7Dyx9QeYPP20eRbaF629ZJUPABgn9uldCMmMLnAEMpSD/r2cQIoRQOHMvn32QsyZhOgvrfNLpujN0FCSGLjoHn3rTWwmHgZQBjyIXmMBCARDSIyoph4q0Li93ur8epXjN09rgww822qGozgFFpP8z27OFyd9JQDMwWhjIiVafEuhYwkAHI+QpLq/zwKH8UU8ICGZ+PJhtmIsRWTw3ik3wyEcx/H8aevDfuGg4q9oTe1ONtUEa6IMq9bTSp169ZVv78lqHpazMmMHIqMP82HBnHhAfHwj7m1+qjYMfIahasJdAtCG3XAQxJPfcrrXQTN5KEKwFAhAGNjWGZBUIkCwECEQAAaRgDnjrBtkccf/3jPkQhX90h8KpKnJdKCMrR+dft+LmMOS2lrmrKRN/B8N81+u0y0Qc9wDBTMvlev6KBLiExMJ+uA/96OejuThaRotPuCOUvCFIEyPfNpXxPE/nVMbNJAEfL/32XpcHmcH566WLxuAaVaobGghAgZ+C/MEJgBKEqAAgACAw6b7WtI1Ox3pZXRb/MxFcgaHuEjRc7Brk45M9mUN43BNXBmvGq0WZe+FE2e8IP99uK4btYHDlgUeZDtGI3tI/pbIZIKJV9ul2U+yfKvrrpcsQRrpX3RlLZ3tGkunvW0mRnpGD/ZhuDqzSsjxIAIEurb96azOnGI4cjpmiFU61+DGTEWyr6UIQYYkEpLW+Fn9AIrq8HZHn2rIQHoyqy7PjsnLlZPuQapnZ3WlB/h1I77YOZ/7gwAwRP+cTC7KUSkpFOTIcZjCIFguWQoO8DjEV436x0TfcBRH7bZAPdwmYz9bN8960WKhZr3dpq/bsk7Pc/e6qpyPCjCO8D93Xf5SV6wQAAhn75zBdl2g8pENJbbVInP/uiY98AEKJBKVBI0W1zy0z8NdawYlDpC2lEtHsnnhu9wVxCWJIu2erpmh7Lv4Ko7G7As4Ln4PnxZN6vHFFawejJ6slTQ4JZAp9kmD0ppsq/vkqvzsoqqkfd/lIfnCqP45f93fOZ90wqykNNLcLliGuIGub/JkLhl0/Ork5FstDRmKB8HV7S759i3m2cfOnDV2btBysej7QjrPKZmUJ+jGDPaBCEhg4ikBffTWDOmM+7KHq+n/bTB+P9xn1BdrZ6PwCX6XimAQQ3s6TJrxrabvPrpVPVm/w9PAroGM82jl6y49Grm+kT7RlrzAGJsRmaTJy8gWr4MnjHq0mRgksbq2JDt6RrbKS9Y27Y1z25WEMuy0ndXy4xOtXesa9MQyEREJAFVBJFol5ELQ2aN5RXBDsAX23ZY+/Zhf7N13WWve1L2KJaY5e5zNUc/nuu6Z1VH6CYzFJqg5mufJKtekt2aFE71I5PADoOm9cCyXsWU92ae/LMx2i3SneWrrkpvbICucg8BFa8DCzYzm4F0ICIoIEqBchl2nrW0LdbNEEUUMbcZK86gsyWM1ADYRETxrHiA0RdXHAn7gj5dJVmTKUuzhzC25M8uTBq4GuQtgVMiJIpVgT//tzvlcTPnhNVWwKjB7WtTs6O/q5uxDDuGLm9K+xBu0QGFGTNSTQK1CqmagFMx1kkM56ue2L2M1kgU9YYoua7o3vhyfGp1Bn8Wji8WIPqD69B8EgCFyUQc8UUSyOVlrhrzU9tdUjE5IRA4IDLOP0+x4Kri9hAJgWBeckPNEA1e7N7W6eurf+59dgjw4U1LRt+1Yv5mPKLtCJARbdvDUs8/DbaGO87iU9Q2+Jy51s0OcZYvj4ZF5rkUit1XqNLTPfyYHSV2X2r7bFKdQaSGqD/fBRpBI5fhcHYaEAJCX5l22B4CEryQoCvDasA6r2Ia6Bz3wExBS5WTHgx7l1/Y/n1t66x+0Wgz7qcBCU2BoC9Sim7n18PBTT3R6fpssUs57XKfD2y/RJsoe1en5SlrNsDr3vz64+fmewDKUJmQ57bNMYJBQ/AQpcR2fL8W1Mq/PWZ4OPZ+HUY0N7I9BEge9sQmXRSpjb7uf75/RL2HyeJYgAIJU7aAbgMOxQgKSoek7r2aYffo8ot3e+gSnCfqiJgAC+wfmqtppdisT7RZGHQAQ9X4i/csgAEGpCe+bjx0AgMEBs99/xVUQURUJofomiEAVrurmAUvOo2uoRSkZdNECZPMZTEjYIR1sm87G7GkdPRLOGhjCk1ELgd3kc7xWWziCUFb7bYHatKTSVQNgIxKRgh0wBhuRYz3llJUGt2G9H6j/Q/f7d9d6leAupaG2T2UyuAgrlkK1BMCEBCVbSFcqR8KpaFGVEsxXcSEqp4YWklmkrFBaAkSCUqBJdbScNYBOvaojz04ldc4CW2gpM5nWQ8aqNIlMwmvOy9iQGZNbTkXFTB15JWLXL+o2aSp2S2ih1cw9K9VAg8SoVNl1Fs4+oON7YcMIR4CkVoEIR9TdBaQwJnReXXtVl8tdNcvoEShhMnT7vGq6F2v/j3a3hYu1sdGpdRoATx0AgOMXOWDMBr15yThWqvWDz/j3T/f91++Ou9/eM2vrrsQIWVC/62G1wl/N8P3brONz2hYIYuvhD8RElD1KtjzUOkkLIba+JPGNkvu//XYsoCLm//vb+b8+4YjxlRiBqmqVOd2Pj3ktRL/6GMy1W+v342EhMXzqesO0oMYPR0ai+N/GNsoCfuYTCmmHRcQVnrkiBv1eXZic432mg35KlJCAQrqcRAxpTAyW82RLccHffskNP+xZ+88rcz/Ik+PZlF7z2QN99K5jkqs34rrp2Y9awQ5UgCq5PAZpE873hyZiAJkgKU6CiKXDEZdOVhy68AvNmBvoleE8th4hb1mipCFYm+T+x8sOsplXZdKkL3X6rSmo48MOxLIeJBLD1kVPdw/OJmJWmtGj4ihTmP0aOZ2urg3SxSCDHo0baaZKvW4WTaenB194lsiCxLZVAL7ksOBEHixWFJNupLYuxtHZHB9PQhFUE6GejpdLGkhV2al+5bNfxuOGaIMJ3JaZqYqDf//oL+nQxTetvBqMJ3e1RicpYvdePma/Rb1qcDH7V7KAOiPI+2kkh0x3TOBiSgdWGCVojNLLX89qtxzhtDX+n7ZA0U1RBn5m5lXyoMhDSk3Dw7N4whZGeLpjUaKSmd9jeitd03U66SIb6R6/okeZjZ5Q5MGylfrptbyV0Z4gfgXFAjxBixQmPLwqFQpY4oWmtuNkVu1fmLqsjhk5apgWqSYsUayozrCxniz8pvBga8JDBhwTtsJFsvrII3g+JWpGet3FoZTXcZDzO/f9XR6RwpMKXcbU+60REtXTZ56xTNDCDjyTQAcRcORMxMcngQe/FWlTKopUQmTko9OMDjxBCoMjPAoAHABGGB1BPAA4MCAHODAgIwAABowx4AlKDsBCEFiAaWrGMw4AcAA4YHQHjO6AMTrAgR2JDnBMUMIQOUpHBLuRS1t+lykGgQMDADgwgAODA8Pt4nDQUX/AMXjCksnNY/+uJk1XeWN6lWHu0iQCk0Ytka8KAn6VoABgAIeJ0jffeCYSJd33TPjb3z6gRlNqQhOWHKQlq/5lDSgMf4GscT96aBC6SnKWnDHdqQxIJznrgif48shcHg2/98nb0uTGBZT6QScdJVJ0cY1I/RwC8IMYMjgmKIFx7kQXcfFXhVc6J81KOj4rMGHKYrYyd0058UYGNSk9MjPKeDvQy2Z9bOxIU3s7tqH4b5pEoqseY22aTc61vqnesZacGBpnNel1MRUJERbChOUY0s45scmhX0tZWbE4LuWF3cfRn9kwa6/fOVCGS73fXt/YVxfRo3//U2e8SLsX5blrLdngxKxi5Rr8eAJvn0l3H+NKyBi29/pSHrQ324y5SXVIGByEJQMTmABISFHDW2Waig7H/nDI78LvFvB2Zb2U6YmVMH1aoCIq+uTRG2tLF1B4OSAUJ8EVH7iUh34qj/LgVakCKefjymadMbw5UrOqVlwrekATmJCVVynnKswbOQ+E3vXkNPvFgKjkwm1ESaXqor48TOfugdeBnJZwnCfXV/8td3MUy5TFhR7UqjvSSl+rLZ2sgiFnkwQp0NQxgQlIF6cQOfc/xiu9ih+/XitMPyqW+226y5FegnlWj0voWZI65K/b9HJQrzpj/tvXp6f+fjm9vjvjzVWgiCuPINots1zbeI2fUtRP7WWoCiV8whLGNMMJ+MZBlSZnWdOemJUr9alMquB+INubDgWzEA7vlQVF3HmjSn/W2eUlO/16JoOgoZZ2z+GaxVcF96o6usguv3i45y8f9daMWY+QgifsKCrYsy7ankQtLWRIkjR916vbarnGIoch7OUzKW1FAVtGjdX2LPOUe5RzrO2tZnS5OOjpNd1u/PMp+1hoa74yV/pknAJsu+wize/AUozEjpAFRgkWCGJpAGWoyEwIwCQOoj7TRl6DVkHgTAgLQ2GM/f4/q19psVfkHE9pW+Pl5v0SgMTdqmIwYmIRhLBGqAEAJUgkIW0VpQhbHVApqlF7eaATawCjIRwAxWJCYg1GWlhfoytqVQMGthFAPTALCEhrNBhDAP3Zy78fEhMkZIbx9Lvb4fZNjz6HXJSHjY0tzp/OvBuaGZEYldKZHm3024/3/P15jPeHwqpvcEx0TJHKOHfC0zp9ehk6bfJlEyNkDrPXnTjtclF+ptace3VyLVFiFayH7jw9+06PCo1TMWSqrtUWXxc7VdN+5tCsyXNtkMSIwMi8fyl7VAqcJ5RTdBDa42d9bVitKTI61bh5GrsTEMWECCGqq0g4jCPc6Qfp7vasuXmy5TsFwxAUUUoBSlQAFH04ji06GPk8d+nTkw9dFYJO+aCI0rK6rQgpQQGCzpkkcB3MYuZq7KHrWq4sHQJAlFq1MGBDlpOgcCM2fWot6Gy+t/qsnCxZ61yUijh4hTjWFu4BvZYC5TqKZcQ0pR8ewzpNo1bQr9+L9iTdJbChSHuaptWbey1EGUOXybcCywS2+ENaus48OJ00r3pYb0P3CKBJ9j+Ip9g4zEihy14IQ3kpuD/pU2AZABO40FW1pj1uLd26i4SrI2TQ0Y7WXa07G2qC1r2+v9fBwvNxEvtwJvnQRRo5IbPRDhgrlEEMC35kda1u260FG1x/lrblq4/Motye910SoJdRVmHqXrkGLwCAXARgIpbjQVhjBbqORMxxAI3935ly7xdJc2cSgtMtR3I0P7Aia6lyiO11oFR5OP8WU3NvbkElQLeIo57J1qzMPGxBf2OFMnoF3zfz/8KdfIugo+bQHbg1yQLSgHoZJP9k7gQeyi2B29em+r48nmV4CnVhgoilE+UcxhjDTvkXJX2sZFEYag0BlUrNmVDXthDZwBfY62C5MtgcmKR1WREdeBwr8N2P5J4kfaK0gjWyjo2xIG+V5TGNllBDRA2lAd6RC0iB6FUU7f/2PP7BJCT9SoguEiuT/qdfi804m454lqUQ6WWk5epJ0WIoYb1wPLT8nQUyDn4MrUgnlRpuWBpaSkSvIz1uCd6OIb5g4WIKvmnPSqzFx/xeCaUkvExOO1vr8Px4gQARQyWGoDwykjsad+Cf5eTKVICHoRMoaOjCrLRaxCPPCQARfwpUWYHsQVROiqwAOUeBJYEwMr/AMyBYGmngK+9sSDs3drdQCEafDPYxTbaPYbJ9DJiLEjgERJMG8AYwFyoAz/K4ut2tPVZEXCuB8sQyIkptwBDCjcb6FMBiAGmv1GgQpRu5HU0z+u6h+6v8ExEHADFmuCYvzGOwX9svx2B/CwBi6MiXD3Ft+ttwKl7b3wFgDmLMY02NGe5J3q90/PHR3j2PWzEqHVGgGJeABhZllimYPNoB6woARdAKLKFEEwUx4Bh4h/1PoF/IO2+6GQ0AwGHg8Bj0aHkuBsBqsgEAx68tuA/nGkwvXZxvsDMJFqKOAhdtmIdDYDSEoDZifWY93m6zL9btN4+0YQIMQoiIRwmTQnc6cQA98BrQWAaA1JhgRbwBdKoBjakrZ2ZBBsLzIZaCUKlA1YfTcvLPt/CeGwEAIyHu5tM0yVbZgq3FauJjRHNXkVCAyjBRQPsxziPbsqvRSEb28E4n2Svb5tnvXgC/o9Ad6umqPVckAeBqzrWapCpRCJkkLuAsVpPFGEGhJRpscYb4t1ah30cU+SnTRf09S8YbmuoJxXhExCvYVI9wz1YA1KGMehZ/8uXUySkA+QA/+9eWpS2epVgSAbB0soLSrbGaA2yY2l/7oBsMs174gDQKNBjca9bms/LdRE9Q4W/ytCt5m0MuI5f26GT29t8fysrXrKuyQJBPaEg/Utd1Ub769n90aHZFtkRxlNQIatxrqLtP2pxUHSOkNfXdmRLC0HumYCVeEYD9h4VMkMIMbG5n6L+e0mwxkgLjCeAvrMgRjKfbzvS5JleWDZlfX3zbr57O9ZIz1jllcSJ/8m91sWl4ApPjWYglxJAC2FhNwFzcrAvoRpmd7TWwBoqwv7RgaYosmT1ZAkpVTu/ZTt1iOnVTGjmsA3dwTpJTQXSlTOQMFg0tkiGODTga8oxOBDiFdIw0dXuXS90c62dEXwY+EsAqmXl+r77Sl2M5ZrKMK9z/QrXeskOBQiBoIOHb/sexI51tmZ27tMYGIKxk3yJ8iHECAeHzTqjcufe6S65lyJcpG0D1oNzD2KdmWyOdg21mOGptWI+3CdmB6+P5cJ7DFAaQP3Nwnr/vSBeFTxxoi+A6nHTSjHVUf3tlj5bO7XLWaxNOMvosJolysWiNnfJhiXxQPS3HoUcicgxwAbB7sp/9h5v4qFF/j6Guq2BS3NEmx/52j8zTxYtu6jaw2bdWvTxzgjo8XZy5ITNnz8NdR+d5RCIAoTvP1ePs208Bz8riFCpkaqMpbCZNgZ9DimJ8IFB/rOPUPWItn7650KKsphA8DQgoYnCjx5bUPsy9L1PyHMbAWDqGI9ycZ+R4cbgl6XDWreqT8ukm3tf3LR2r1e/U2oaxcY5CNeGS5gQHEziD1J4VFuRAkWgZvWBxq4ocqaa4Hd02z5MR/bNIJdiW9WLNJHuzpQ+q55OO4E2qhdxc3bdMUsoTwbZjf7oMzeNbI/qXrX0yk0IJf+Mx2tYFmrGDoeTb6gFMSg98ivEAaTEx17N8ztZ9u1kKYCkwKlGugCIJDdxJGbbm/rNh/sBjMBIdo1AF1xfDsk5hB7WsnC1f4prQHH4gxQyoJXKbEmW9c95UGuLwi72ZZ7I1zTe/u6sf78tFaqhVCexiTOk2SzJxWpOxryt3FMEQmq5VYyAwHKnQD1PG+2iuOfdE2ztJJOQzNG9kQAADQbe2mMXUbOPupZ14qp3OhpqG0WSOHcYW2trmtCc6M9t5PhEfGt0b7G6jAhUZAkTUAo07CLmDFIvIoMfMnsPtSF0HQzgoAmB1wi6pLByWr/hUjA36i2NFCf5IZX1LUNOJSoKnydxdq04Eq3kaaPiA541i/EmXuiI4d02X96OT+xsSgePIhKfqvlsnY297dHXL3nJmNvQgoldNpulD18/UqZUkQFsS4hkwcfHARZygAQhswmjNyPo60zqROXdJYwPQ5xX8/Mbuitv2NYm9zzIukPzHgjtWwLooFQSxJExlpRzDpvh5nJjcJ2HMCzVqOCibx9jtDk6fR7AJnmIlAOgvAUKX1pajm7K2oN5NBR20lO6VwW7Lx+eTBpwIQkOVHrv49MRcM+EyuDeaezeP6Ms6+eibryHr5+Jc59DELcRhLdJllm7EVtmD6QCSu7Y6eX+H+vQC3NKPs+kWfQ5CApBJRwDewhx+GVdLUrjW3G/Doht1Y/K/3DZdNKyrvsF259L1uRcnZk3zQgjxYTrnncg4MynZlUYQMQai14JXPnX3IBV1GpyKEji68KthV/55MjZdIDW0ItsEWWRuVMMtxXfMxKX7IxszyiCUdLd/mgGWQ7kcKSC4z2BSpdv1mSQp6CWMfklFVhp6X0rYO19c5XLFPRMtKCnoQBT37eeXuAZAJVwq6Ux0DXrZNWybs1f3ER262/P6hSk4+w45t2bcGkunW/ctgevnNgVL0Ss3x1rs043rcecCit7dWbtnj44AyYQ8WIRDn143UrApm26pIfn2QE3Bdhyu5iA+NP6xJGep/9hVvogY0qs7lSW4d8H5M/wTDPcOLuWvcIb/H0K7czAHOzAfF4WgHT0Rf+91XfERYyk1ftC5X37k+XdtTEBiVL5yYTQHOJsjKm6NmgQFog+8IG9NggDBQTQRRsCpyYbeN4Cuj0IVemk4B3lLumEioTRkN6CLVKxU02Ck+xyXU+k0zhsX6RtG/3MmjfaIBWroe9VCSrPTznbzCxif/gSsQDHiyObTgaWkvUgpPhCywITIgii9KFBQpj1i2ygz77v7+I8W3i5DEACjIYlM0JgYRGOwcgYAiENWC7ZajIbw2QjAisYSI1UYtlO/vFG/vgp70J6kmGzhtrMj0g0pRkRyHucabOMXpz3+dKy9hiGAI8S6XH2CiAh2KwAmI9iN5mXzGwD7svXZbAC7FZthPldyfMoEDMvyUXE/tk8GPB9ZsZnR5euT2JhYuxUQWAFFLZsPOUAjeNIeT+ndTdfOycESxYmgEQjZlOCoYZxACGkmEFFSNIZKddX+GbWGf52xbwvPFx8ADBxZg2D9H8gIGDiyZBoMAJTOZ7pghXiiTgQ7wWT6zsoZrBxZ29+iF0mxUmXUDyGwcgAGo8EIhsnzASMjAEDYYP94Qz8c4vk4ZqAbIQhZiTGzo69jT9RqdqIPe/ezCyF0o+ycnkUA8DLxfAjlv9+mza8n5tI8fJSSDWgBchJ0GR8Ul5VYTFRJgGnDgFyqmmVInga189bzfOnpwRazqMn2flaFrVzydDxeIMAAeoZH5cyUqKJWaeXK9Kg+NvFClsP2hJqxR/+mP13GUS3RIqJxVh9cM5/UYcucoWIJzVE5FiPLk2AWmXB4HmAMHAZsYRCwjUAAoE87r2PsDUkSRK3qCcYItMNnZHsdawUzIpSu9gcaXBhH89em/Klu/lSBh3IbH1r7uM+xyeT3xIqlQDUFvhNxJQEIlAACUOq79uGmTGwtMkSU8QcVi3YrLmyOcGWFQ/JcDkYp8HW+Tx87+XTHzMzEg2GS8JY/7WUFbv59A85jNln2RQf45a486SoFEiVyfJx5FT2Q1YTnPOS3vaEQEVJJIqlBNEQR3FBwn8D80JxZQFR03fhJ85VNNIeBNEMRoEChAQ4KtOel5SZMH4S2FWXgFJedewW8D6H+T9BN8iGUUrUA0BBHECUSYTCSujJiRGP/cdmN/Ww+Lcg0tNluIRAkhElCyb7p8tDKrpuRB+AWPNXzvFzZunhszsiUHMNxC6tRfiITZ4znELPg6pAmXoQiUhKNGEAaWD2XentsWr3Gd7yXD4Snztl3yhM5PTJsGEea9sFPvlg86Sfd0+p5Ui2nEXIpe132QHRFPVAIgAQIEKADIMJkYo528nZtKGG9umUe5l8mDeDch7OcxYuhFa6hE8IBlqUhQMSfAk0qgxexI8/nNKprAdmC7aRsaG25EdvgUQBAhoqwR3LkODfhu8a58bV1uOrat/t6rJORQf7h9ayz+eI0Vs9QgznK1PFpyTgNOCVdDdfg88p5sqEzd3gXjFy0xu7GqM7Tjt0CzgXCxKePehyrO3JknMhqTFd3O9xVgazhqVUf57ka8sWgrNr127VyqulV89web3fyFNTLRriUMAOP5kHsPblDYDRUoEgecYfxJ9jevyfMxBC6wa3fjVcLu2XWnonTlyxFfCqiiLpurMMHmcE4K1iBCQRVIT4MGNZtTk1nhawKgGByIQe74jfh3k3cNLUn5qv3cKbJVp6+cmuO3fl9nYxmtjojR02CUTEJpEZspLAZKysZBlnjIKKlaUEFOP7dtLgxo2EdJ/D1XrnjyxWsXMlqXOUMu2Rs6dPhMRNWz8jIpLE8ye+Vrq8zZKxCcnNZJqOVi+iDAgy3ygz8EBbjSGt3/zLB5bVoIQjtSbxEDyYI7arQ4eT3h9NuT0u2ndUWD3EuZeq6stzsnm+7+87N6/nFLyeer4x6CNu787H4mp6H6GYU6SoA7E+ldGVtn7hneVLStIYW/fXl7imY6xhF1w8a2xXwYlftzKA+nGpkwQ6suVha48I+utLGfn1j9kY2WcYfr1gjsAXgxyBaiaRJ/poHoeMIzUJ0XAfiLC/0xQzkjYclSFiaGxm4MXmB5o0KuDhMoXs0cHd+z6yP32/8+d9aPt6IODKOwcoIZwYAbCRhDIwSEcWA2UqIGawGMCKAmChCzXfICmgM/TSo29uZ6fGH51+fd7bb8Q3xjhRC9+FLZ9OjuE+ShkDErnnIOm2VfTUZs8c7C0OhEQqbW+W0rE7w7z7tyjg769ZqxnaY7uKJYHXuY2d/dyjPGsNwVkFPBGkv/NSAeeS2QpsQnJb08qTcbs+T6/OVrgESMTar0h3ZtuJzP7prTunx03wu3eGTQ6kXvMstopFwcRRGYJJAzAH9BQeIgEa5gbZAJ8I5P3414dtP3T4VGqMBAIwGqsNbop0BMLLCs3SpHxgNYDREzf6GEQz8a+jiKSMYeIvGbxgNRv7Vb7BGQ0iMYHiSfcoIBqA20opmkr9/nOXpW5wOw8Q/LdiJbWeKPHHGrgZLFE8/3J18hnsZpEMAQVeyQuYvlCUrOWUNn6UkW9Rvt+vTUe5Lkqx4lgxNjsm/ayMHp22yD4nHFy6M/4Akmj5uhTr+rkX/7Eba2+B4ltaKFgYA4mc+W5Oxur89tr8pyajJ54f0m0LwHinH8IRoIwAgDICACIAxiGoAcgyohqrz7vtyC6OzVMdHfRazzDFADL/tJdJhykQ/nA3sk4Eib1NW6NLw2b6SbOgU6QI+O9zQkqrVTlIxuh+kmuFHloh2MgFgrcgMgMOFVweX4uCB3wAzgC//8vw7EYMV4x3yyxdOzcoarxrSoQCiMX2G0VorKd3ChGWVZt/aiyx8PRr42NWVKlJ4hocmlGa+ngzmXoVXp9kdR+WZGpR98OBbF+6T5xe6fmiDZSwmN1gZvv5ARtiUmDhZWjS27K+8iDA04Nm5rMtd6zCWj9PWBosiLgd2ZRdtHj6l6iM3rpP5RcAGfUJHs+3nECGnRADBXNXEjYYlJ9sfxh5vPzz+05cFWtkG6YXBlQ1/+mjzOzfyJNsd3z+bidLDvHrer30ee0xbc8/Z1xb7eNHqA2X3IweoVsXOL/OSj1OhOyyOfDw/p4yHvb3Y/fWeLGonRNc89VEyEvBPBJdq5yRxcU8IUo8n60zvZp1cc8H/Do5UALrqKgBE3JvGy7P3tK1pNdqHCEBBk6XotaLD1ueIfVj0+CLvfEuzBnCv0Q0GYPCPMguLiJpAsBPpD8WVqY1gECwiB+hbO1gXrxBs8Lf03TKe6F4YUmPRyk8D4GI1ia4OUneqex++ruuVAgsy9IGI2RH00f5tdEtjBiTLnwZA/wz3jL0/0VNd6+3PiE4RAIMDwugMYUVGzLjhPLasJgkvueEYXk8P1E9NZJSN5y/GRRNtnzN+jWZuldvpWtWsIJEhZBL900z7/PPPazGc1+G3fVSiaRfUK0RnAyaGNN5DjyuqlZJTZZMDFpY4hqcRZoa8BCUGh4iDlcGZdMmc6jBNIIoTBEivLfMe9b/L8fsL+WqV/sCAgDkAAEwgYANJAMEO+TyO4wABwA75PQMGkqBt8zmiCLLukN9xALBDnhqRdft8xgAFHGAOrIDgdziw/g4H0BhIYJ7b54M9zzWTVC7WsSgRqOPSa3yu47ZN014yYmfv6yi1Aw8oLnxxowekL9uN467fKenniOF09gtPZ+/JhrdfXXZiuf3I1SpXZSgGcelymM7XiE4J2vcTPJBJw/cXRJZc889sUqv1GGc/45UOxA1uUuLSq2dbPOsBntPocl6VbqULBHelxb5oMRkRVULJ9LNZZu4zm3YKDeXmzbVutWC4Fd0EVKvUzGVSp4zV/7u6BUsuUZQaHRFY3qIc51CoxrU+Wrln0bGK/JiBRNO8LT2FHn1OUJztsdd3R/BSXuXpweLRORryFZv9uIIess8ql9+mV7aarmX+tp3x815qdj62hdv67kt/yOBb1v7Lh/zAlHCXmiIkiqUSjV2rc4idPIYOYdo4V/f8gi7n7PtDs65QkpdCS+3rxrRjuA+XMwWnTsuVJxNmaptYoeiXEhrPV2ApFQjLPZWk16d4+LkbbnOJtW3Y4xNZzHLv4v9QQZCVLRZl0MO6VPf6osK2V+0j6Vov3LJfx/68NxGmju43TQ15xvJ9dWR6M4q7FOWTd61AgARRasqankzHogXnV3mw/C145XsrPwprvjK0gGwNTkegu4AnKpPvUGV59cMMTgs0p6hEnppHJX+LJFomJfMJiU/kLDpNnxZH5NFqQ65Y6m1GflnRicD7uKm2EJmlMEPUg6yagnH4jrS4LKscvX6oR46AeILg2QvvYsU0AiNmm3OMjp2IguYQZoLzqM8VW5v3ZN+gDFQZWn3GaVPSPP/Qwt2sWYfqIDhbCrb607tbDzz/gwrV6tLeJuqIb+rhVyGMGnmL3+E/DP+gBlMfUuwsPXT+4H+lKIJuCdwqvjYIgtCl9BZZxlJPym85esStHGg3PhB7zG72JrmPY4h2Swod7f+4X5FRu3amyt7lo2r9DW09zR24stbnwJ2wYd61SY1rF1jQTRw98ITUA/1knkH2oqDoJ1II36Y5JKM0IBkkICncfsbbQvZBS+j8dTMXEqpZoVrBqHbGq3iAXmn7rMAuVqjTDdL6pO49weLmqNRr/9p2/ukDtyAlHmTYirWzH58tK0tXKUyTGe1Kjr2rpyJryxZ6EC1mzm+1dsIguDmVNC0mKrT6of4Fz6/b54HnHn8IIgs3W1Rbli7oUvZQL2n6/aun/D6z3NQoxS07NZ0nBZINlebNdcby/ayVF4KnvrbuWJxmIxFAfkf50SjZffkwQ6LbDG2Cpft///IW+Fzus8/v6t7ZSCD3KfJNdVLswh6199Fs6nFRuUa1XRa4yxdS3txGu9UG//uw7O96Ho82oJgQik1JJGUUkToNABhjQDDm+RhbxlKkpZ1OerwTvp9nXjpS1+ci0U0cU6E08RtE+hSY5wEj2omCR5lCtVECCUAmmhkJJgDEGiFhHiSYzSCgoJuEokfpgXIrB4WPMlXlFr7MVuzqni59GOrNUq9ITCCTu36pHnpFMk7TvDzke+xrEdupEpbeCdPCp2MIMYGGqQJUwdgBwjbJz9drv53P7T4zR4Kb2VgWYlkAYIFEQuQ7EfcUAIeeAgAjC2YWzCzHAnBs8N5YjmPlu4U49ql43UjwflkQO5sFLs4jI8cDWGj9yFhggxj6VPZuJOm8B9IMtx66wpOk8OgiYKjeTJvkgHidFWMvuJasL4AdY4X5x+PlaBLpKg44AA5YiKGFB5yNJeJ8w2SWYzkA4AA4YDkWONN8i2USAGeD0S0wOgd3+XUxBMYGsMA1Ikql4R+kA11OfF2oEm5Iq+SeSkFiJLxhUOnldJCi0Lvfrza9xQEwli4BQJRFlksQXnH6mKCH0kMgE8Gibhb+5fMzZsPtcwn8KwmvSI+8ot5INRD2JEAitg6HwZHCZvQXOgFFPYhoK2c1Oq1cFEO4MpwTJ65RFoSYK6BlkhKyDN0oDZQ4YCwTZZTEJMGZXnNOcW1DpMCUKhziyGDNfaaR3LqEGXHhi2zAEkFfxlLGPGDk9VQnWq1GsuqSR2Q7FoKNQmtCuHWSjQUubOAs7ZzYvz2934rSaq6KrmjR1CwFHEc6N9InW+LWLlWNpk1tHGJOxi/qOBoxxFkTHxlrZZWFH5O+0KZpt8xryGofCL6TPX3JPl+8Ymqdv4yq0yF9SdANbh8jPvg/y+4B8Yl3PkkPfD/F9QNXtzmx5LvlUnE2uknxFdenQPAdqk2FlzFbfBii01DcLPnN4oDlwjxRPAkgPYJDUWOlwSVtFmUClf6D1sqkGUMEsZAKL0F/Wa/Iy1nkbWV6IRLqgPErZ/on/e8Mwq3n1W4ZyrUvtCI32VN3dcZ2tVrCuh234Um3dLQ5GauJXrqtEhBa13LFjUynfa+yKbVGNyXlDURnbrlJyyojKyUFjvbdoWB01K5FyVhqqWZVMuEgzEt5KDVftc50rXP7Zuf6ZUgXLglqBhOzplepqjm/o1Et5pPTQ3JVsAXyVsrSU3XgwOMX9gWnl1ytHrLSO2v+94Nbdhb+EEkqUieVqKgiVmc91iHHjT/m8n2OS9YbPbjNiVVOab3OAclmhdAhQUl5dm+Zxuq1zcFx3SAYHhG3yT5wyvHLxQaeq1xt6lx7HGU+Eni3bFxYh0ErBfeM8i06PKbsi1SVbJMb8gNczmPapqYZcIP5J/X1dCX3xeApg8HZO5G3/XAE3KcVGK+yCYKu/137JCtNeL5LfnvjdW7zYS09Rs5khcsgWDk75YxWb4Yao847Sw2O6HTFVFJpWgV/7CbF5n9+N/OzX82Bmd5on3rhyhXLld9Us3b94qwxCmneOlY81PM/p6LTcSv5tigWwriYdBkh0jZDoAovq1T3/HVO5pFz9fhkKylt6oczlock46SsnctV9MB0I9VWLxc31Qvg8QpHtvyrvVe2qaNpDptfRU6Cb31ZI4oZXvVuHQ6dlMs5lFdQbcqxxOjBcCZ+r6OrvqhZoQWlaGepoEn90pyFzyeZnKVQZWjIX1PsKrtd/Kq2J8txYR4DH330P8ldiWIU39tHzw2asNIgjzK0G5wfI1cdZktp7V6et+BRKTtYkF5t2DE+wXoVnXvBy6Mtbr9fyR+CdtPlNOpPvaooNArO56ncnikUlU7LSJ5sn+l0mdpVb9B/sYChvAB4GhGdrOBquNC6etx2vlz19JNm1bbTA7Iq4niZoo7JYI+BsC+28UGtDoBwITp5Q6gyF79rEBopN/DHNQhClXpDEyUn0Cl2wHhFuBxD1qdep9M+r/+PaFV3d7fzKFm5ONT9/m/99az1eZUeKtrS1lymV+WIsAHjUuhlNi80CQC8ZRQWF7w83Gn/f0hhcIXNT/s//cNauz8Jxzrq/d+vfvv/hvWJScBMRz2ao3BYB4MD48ioGHDE6w1EUgDhNMBLpEK4adqkGOTAjnFMpQMqyivV7r93r10zC4r9UbAoV87dvOxSh25uteEN1ZFzt9NT8KDpyNjZthBL2d0PTrV+MnHdm79oZ1a5+f7c58cj57nc9ge+K+f5vMX9n85dHk7e8PbPRfq6+3yhS/RD+b5F1tePyfdEopCpVwI7sE4AABId2AGhiEGvJsDjhAC8VhC6PYt2Mq13S9Uv4Qj0M1IsfR7qTQtew79GcXNkXbLxy0m1PZhik+MEUG339xUdv2pn6YJPS9cv6jUenLcYf/67BIDshsL+Wn/6PzH6QfCeLHVLIKvakNNb+LsWuH1VQVWuMGTTYhMS3DjjYJGXbwScGYUoP95+xgGhip3kIewYJyiDvxxZfSyEVCvKKQ4AMMg3XaRcl6VQNZe1QODNMZmQ5+Yr5yAAxRyHVgN3eTyGDEyiWPk8OJCmjEGgmgQEIY1QdC5wSm+Q5JhwsZ4lYooaZ3Csvjii58gcPGVSXmWtYYrwwShHJGBgKGEsDozJEpkcQFNMViyAAUeGz4hsF3uigIaPC5LfoXDU9UPLq7Y/F1whGndrqv0T398js0jHjMZ9hBLzpDsRGmsig22L3G5VF4IQzpOiAyf4X6Vcq7gXxBYpVOzkGzWXKhIeKcAH4D6GPuPOjdA7OQ+CGXzgKylibvy958wh9iYZP18uHfG9pnGB0s1pyWN+/PLdb783/uW1UIikUXYrkTpC4/n508bWZDvEoWmAqt504vnU6cfntswyebIu8E/dZBonPOxPCC4VN444HKaMjrXGwcsRYw3gwXuva7ol2QbLiUKHigA6hUw2i3lIASMwoz4xDH/UTS+NQ0K+sigN0JGoo/2wQtkh7RCv8aE7PoQd4wL8wTecDdX+PK8Iys2xtC5TTU6cE1Nf7Ty/VDS5IUllWbIaRwA7lKy+OfEQT/WqdWxGd1rY4xa31Lgp7Pj/IkiXs9eTFXQlf2rBo+O67/mD3ux7/mpbuuyuoyAnd9dwWquSle7wK9JqSRlJ2oWitV+BbUKikYBxkWBPVrTdOodawRCAQR6V6UjImCKMxg6jTCEIfU2aKLBMnDZ2rIZ5PW16kCQXBgGUwU1qSnITgo6B+c27/20OEqaYPFbGJZ+k0FjCCmE4rdu3Ivt0iSlF7MG492/JOn4ckse7/Yq16elaMl379vq454cD7G5e7/Grq+FS2eSFA3RN7cbawFvx5rz/8e2gsFG1+i855Hd6lVv8OvV/Sza+r51173TKNU4IZA9d31awOwcAcU+0iUfSMwXG/hq6aThUP13DwliaNgo3CEdheosSC5VNGhCdU2X+R37mmSHAs3524/xD9kxMY6llZprKoX+45EVdmSy/nsL93nbH0peRyttDuXTSoGJFSJf6jrlfrx1qnJqV1nxXFr0sNPj9r5fzoG1MUelMveLao41j3d/QDZqZRr/ZRzkpKVohxTpOEKK9SA2NgLGEnmyPhTZYDJ6OJMJY0VXde54HZ8hpsBUNwEQ8VvTgTltCKzkAa0NW0gZoaGQIiHDe9Z7x3677XTGIT/rqP/irP/nKYRwbS7DdoacRepY758u4aAP7/u6QMzy93uPX97PgiLIiTYeOLzJlSlhGzlBcUL3ZG2erwUoNl9Uc3K45cUTcHQaZg9Njfnf250Lqm1GKDXcSRQFQDaGqAgBPGRKKCzoVjgb0qwiPBVaUoQ7VBF6Ukyk4EY8FLAI5fhnOpkpoNrICKBAulIvha6aY6Dz/wN/32muha3xqJjeOYAd+lECwUURXxy6/yndWlVaOVnRnbabrQXqEDmWtX/ag37ly/Vj9V4+7w3m/O1+V7Vg4/vdrOO7NcFu65UzjZg/gF7v9OnllHXtJrq5nRRrxnSOGrA0OiongAh0C0CptrZngixY0FkBEeq1uTKg9vY6uAE9gNBZg1g1wBUU3w1U4l3UlRQCEO1PF9Kd/4yWfQNUD/mbBv31R0WoccdAikgpOUh2LGHrvQNM89Ytu5ZqSWS6lRRzu4PBPT4Y1inTul3kajNXYZc7mpnPrXSxd9GuLVQfA8iCBIeYE9A2P1y4XAw3DcWcQrKAoSqbB4g/NQACmT54ddraA4Y4zwvLI0Xf/WwWJ7/6JY6kFwx3HmArrKUlJnHMqfSy+4F4/e1qmvtAmX9CUR73mq0b78t9upTCDJ0BCTenAJI3V6kJPAUgx3WsKMs4qoCqcqFcMjt+npbThi0WNPDvxCaE4qQZf5cOr7xdSCNQtyor4jFZtIRMkQKWTRJyFBMUCz2qHm4TL5XzaWH/eF1+PGBt8HDbdprlebpQ0sz/gAYMxHcwcGxMH4hJxTdKC1kcKTtHVbYBrTLx8d9J/GOM7LszQ33PCNJt9/+CicZBQvUrlAKyjQIgDO0yURJpMkRgcgBlFpGWQoKRi4AmOcDgwOGhFU03vhjtwiEQIUZPswMinYkEqOlnezQcbSBFwgm9/70SMxgLHCsnuT//cAauQMiwfXIDuGEYR7iqhy8aOthLkCl1qCF0j8gudj5j6x76N1WYOudDj3I4zdF5lD83lvvi0z7+Z+KeeCalU52xgkoABDBBYCgsRGSAJyAAmMEoieuNleLMQpNKFE0a++Q4XLZxVLp0AKtnBttaSNi/baohFVAI5ZAw+OJ3tZyezbGUiKCrIfOXm+l1zTacyJFwkkYAMrVAixQrOoO41u9rm/2uF//su5/gYsuAWC9dHOv2b7eX4x3dH32tBWwxZmv+pbNAvH+1Lb3W2ihg8A5P0PAglin2OYg47me01Bz2gRfRSK7JZZbqx6jykLqJkbTRMNbcdtIwVasdtxnSXT9EtIggIFCiWUPHLa2dPnuWq2Zr9Z61OYUDHRMc0ov7gJ6fdtRiTKRdbKlFMrvtF837hr20AaA7qUlemGLQSImooWvu3lfQiuw+fXiQQMRyEE/SPt7fpdIfKj3Rpmr1jAEsjIE8vs61Y37yNdLfK3izhXoKIP6UMNmVTeyXKyxELsY6GDbBiKbCU/PqX/Nmlv/ZK5x95Aji1DpxulT4mLwQEvXffbZt040Zaa1pUkV2CqGsaG7pwEFttp+aG9Vg+cNHQtNp/ex7HcFUUfO9B9LSxtSbL6uMQQnRPXCoKI4/itFGg45T87Dm0bsFw61hk2mZqKvPwRZRWFvk//M0fXoeiXwBGTRPcosGlZ3HXua/GyUWXnqi17JYZgKg5MQtqcU1l5xEgYipAQGMcBFGmdwqOe+nWInu701mm9bFOzZFwJ3cb4IsovUhD8U2P7XTLpvZUXsDEc4PK30J8WNEWSD2gYAb6yYBeC8akprE9N+CFdV2SF7W2F2kZjrRJZomanjGJouqzx7RWKAefiDUD1laEquMhiJJc0I4n2XPZ1eZRFmnQIcDaCES0Jto1nwV4DrdkATrbM6sBOxZ2BOjXAId7Khcz8EwtZ79nBT2nxrX8uiwKyPNACoyRahue5cCn4iGIguNmyBHsDf7go6gkHKcQvWzkEKapfC+GJ7sqBSKrAECOiD449Fe/eWltjs5WKkC0RHEixlJjWD+OCbf1inFGNSDFwI1GzdjZTifEqBOZiL7WMTAGCHDqYqUP+r4PdxIaeuzcrF1t9i4OrqQYhbMimKenGWaWiTciDoqrDGDgyc52as1gbTlrRKJjMRcSCJJ0CaTmdnBewa25tp2tVABBLoLxOti22oU/fNPqi/hSQVcARJUBnjUn55lsYRtqynRlqEGFKelkw00KlT5c7g/eaVZI5YOdpvNsfMH+I5FDwVB0H4f8WNNywjVt0E+AFQeJ3vjji2Wwu6oCiXAKn7xACllL81g2ZJyRHJ+r8eK8PJWQ3AcmhQGerwoEILFqa0lkC8hNkUzXLumR12ECVtZy9ARWjCvktecXzmQPyzQPlNtEpYmwVhQrEADZSnXpBM1NwNnVnFmZdearf3cerYi4ksIK1K3D/9zBPCNjjHETjCImiARRsa43i6a70sxd4Mj71ZDuWApxJpnL712Jty3C/qvPyBJdhaT9fBAVb+929oY0XIYw3YAPMc7wBfnJu/HKumU1zxo/fmACBXcz02m/N4jlhUBJjmE9LDDBnJlqOi/0LEsHS4GINwAUKd2C61Gz2eFkQ1nsYkCfNCsnRAgjM8wxiOajhIATU4geTEvo5Ws0KZYCIOJOHwLEVjqefeZgTm5D6DYz8FB+nCgnKflp274813oQrFDCWBxv4NfrfdPcv+TkUkMpDC115FbODWy4iPjWR3GZkRkUrKLA9aaZba43DSsvJPLH1m5w4X7+CeACfoI7Y+/v/LfZWMY/AiWFLCD3wRfEcqP37lq3jbF79/5rLD8WLTIQOlqEmVKCGkejwyIOALBp3mimaMs8jKk436AjNs5gNEH8WApskVQe5ePD+rUv2Vv/rq8f/wAChYqdMM/b3SD3858r+8+A17v0PzC6geABwUHwhiCG0QjuEZz/FgAQDIILgmsAI8EiuCS4+iN/BADA+Mk/8pzp6/8KCG7HEqqrA97dzu934/n2jV2EeKgMK0h5AYYZjUn3Q/75mi0LABgePovlqaUYypRDb+F517iyhEwsFTEl+mF7RkXWW4TMluCNjLN0+VCeYwGDBNimn8IozXpViRJtn6F1LJmlRRONFMwzxAGOB1OcjYsw2jgAKqgx6lr7EXlzrwiiQLHXpBwViV8flGYlJMrwWEkDjfNcBNFcspLgku6bS+lKWWIUB+k4EYyOfduStOA7BYIUO5kTaquangtXOctxKBKrIN7dtGbmcHZecBJzcKJge10GnobwksiNLPCiUInIH1PTh0lc+ceavomW1L2vyPvAtQGDMnaD5iEIKBhYEQkOAgBJwJz14Ta0CmOAlE/+o+nxZ2T1ZJXN9EQLVbN3OCArGWSPHkgjh/k6MriECr5TP38ZkcQbkOPdkslAXSFrsxwM60uSEPXe80ndnAsyy2bI4TYg9YQ+F3E4xXOyunJUzckVD8y1O66WKYBqgrUEAM+kBnrDCYCkwERFcQIAEjGZWi+2uzCXbC9kHdzPuANcMlwGz5N2HK7QO9Th47KUn7yHTV1t3t/h+KC0HEuI2+SfuZrN+qyNRiMCDeza+/611c5Ocj9Cj9TYGnaGOUp4XBEbuTZmHANyqZIMSQ6vo2JGSrJrPc2cuRRpmx7CUYeZ7QwiihuvJZlksT0vnxXigRpQQAgLgYmLErFJUuMGmoVk9562bzapzw/sZz/eD4/muchtZN+t5VP7eRmlWBt6+krTLE20GPGX+jIU2J6U7SM1HcZwZ+mQIaSq8NObL+sATrosEmf1Sm9xNOkXlRj1eF6DJz2jRtZOytXjy/tn13Yzxyc35f2csbJ/M6S/r+3TXwyaAIAYmDqOvdiGQ6xnjrWhFhmMSwfL02hLoSI1hIIxJAE3LmE+4zLXxexb5v1H2ma/wpUyeoGwpm/fOtPCRBWH6AZZ8r5GS2a50QWQ6If7stXgmNXIrXzqq5u6B7UEMGALwNIj2+X9pizXKGd0C/lYr4/qI0Vd7JnP+pPFSAag+dmQk6HrGuvRdKjn53teooEobvAS7jZbVldD5WrmAai8lmZkaaYmGxNCrECAmJMFaUTPUwLlBhES3UDRHSoGErwt+/D4S+5hu2w35bgxlHdogcx4WEiGwCck5C9KLYk+5B4K8cPdGa8XqSu6f1ojq3p9fEheUCkBJOUsNn3vO+XY0U/VskLrKcOIUMSUYPiChBIxmuP0YrDQGB3PcZxYjLiarpFJ7SXqZkOugzXgRS/ZcnPpKlqJIutvxYrDZrJfsoN9uycSnpdEFMEUnQOMD+ucl/QpuiIwgjjrw1eIOyzjA3Vf80jlutgsT5Spkp7VNyviSbS7Numvl83exHkwLzTpiW5KwgugxSx0iF7Z1wVYA0xq6MpQJxxD8HS6yNJ4huo5Lk6GmSJsoxwVclRlb943ClOnZ1MBLloLHDcnmmNABQCpEQLa2bK2l/Znx3lKW2FWSG+LAftrNW083dr91upVYGEsKs4Q6PmNvx8tTbiGExuDAp0TYVpiuiDn/DpcJM+5VrS37hJFpySDtIPpYwErQIpViSI334N5Wasmrlo740i7mU8KsdXpIYGSrLKwgx95xFVzzAxWUGFKui2rhUNtC8QT+9tLGX2YmTmeFCWls5w7OpTpEhyH8sIVeay9+w9NnRvzUWpOO2V4QCFwxu/504Uz1EiSopgGtb2LoWKyICwwgof0DYUxuczMJvZsxlU3AcAkWdWeyYTaoG1ni9MdseJwoHb08e+fJh7irBoULMii9DGCTAsO4zH2QiUd87PVwfBA9lVr8xwKSNdyF9FtSIqiM6JtCV7ifbPjXfj8MWRGIOgaTgPRhxFwpToRHAQx0r1TdTIQOe7fQIncEUowCRbRuxEMxfXrTO9kXX7FdJ/RMH+9WkQWEYx4ffN1plfWwkT3QdVmIJZV2flNUXkqpqlQqcbXiW4a2aQupwLVEVVfeFzP6G3tqKyaSLMnj2I9pyi3aB+0Fuyuac9XmxQOKtSOlx/le25WbBBimPTi0wz67GOhUeliLJOZw7kNpxgaUBXIaFH224myjyHKPloU2K0T+VFj9QRNtgPAZPvYem1NyA07S9pmuot1l084S2NvCdbpN++8/xvXa+GQYoSDsqLsAHBgdhIxhw7qneXgwLtQ8aC7CxY4ADjwbnDoC8Ck4Tx8nNEDMzkAODAhw/x/QUbHQbeDKbhH58NBd6f758Oj8wF+kwOE1J32h1v2Sx24uXrK+uoJCRJpSWVpjjbfOoYX0OykiiV9yqWv8OM/lDGtZtHX1c35STJwY8DSt0fYdy5zfnHf/jW4ARxtLGMuPoLDuEv/0QiAOQhFHX7+WTN7jl+62/E7YznPZXz6WjoDO3jGWot8Dxv06yg3O2oTXZfBFrQAAQqBSWfecF9CCVCxKg3feoM7XD1DX/+Lv/GcDnMin46IAqV0ddURynDv1n9M0fc5Z8NQnLNhPY4BcQxiAOBQHADwEBTUhWgBAwAIAL8cjymw4rEE9F/x+M8b+eFUO2VmigRnCSXvo904xAYzlGIYK+1xqT9fzs+r550C3n/AElpqox+bWv/KEufM4Pxww7ijUwmZKhZHDf4T3/UX/W0debGRrz+AVGxEFaN8DoFYRJJ+3rnklREBxdmUuhVP1shcEYPxpTgsAD9obtdM/lM1GpzNJVl9aU0vg7LHv6Qgh7tuy7G027ohGsWJoRfZrT5qkJdZ0y+JaRO33/1+GcYjKzJiQGBFVrCT0Yo4K6Ch0Ck6N0c/RzgkHRKovjMxrD9CmZ27/Ye/V5//b101j3fi7788L7Qw6Moc8yGeE1iNN8GIFUuMqrj4KN/xidIzf/IXev5KMyTGQCCKMKAAexbJa+KNToqSBQYBYydzHQ1mXm6t07AETYkfGUBn8lGKM3lenJY3A5Ry+vcNdnKc5iLokfVNDX5bq8f3vAuUakkXxgFsR/GCRy2DiD+ZJAIBvCXEd63COEmDhocXUJFUHP32nAgLQINoQMFxQta7AADChop1LpgI0ZUwh6ehE1gA6Iso7Q9fTIFEBSpQ8Sxi4atu+iP38I6XG4Wf6Qw9RSfC4NJhKPEadseJ1PIzadpZFylI0xTn1ySE+fQDbXFb+FM3S4FAYwc41YMt2ENM4vXheNvO47Dc4Bcxh2hIkYgTfXdbn7hgNCDzuyu3CYuFrTxUy0p8jvTUqVeLGkGQv1ONsw9eIwqraJZ33pZ25Rgo67P50Fac0zA3y3SHCI4EmwA6Runf/NFv2dVGE0I3iikFSV/vovbl/3pn0wkXOkCEofPqtko3z5YmeOqHelSsBMNdjaj4s6uew1943qzet8wMfUQthhWxVhRofw7n5agBMJk6PTty8zbHzFc3qQv1TQBAAh/uhjJa3IfH9s8Xs+p41aWvD3HVSHbseQTrFkiGx9g+dB++GBB39GnpdBqQ5F9VYaxSnwvC5hnZqBrJSCsXp9Zdsm/Bp+06RWz0w6P6qOupVLcgPbhObqFatmasoGQT5qkcLdkb8/Ww7NvU0w16a5hvD2M/zu7mFtjLEgBAPVwYQXbI3djK4PiV21/h8t0vVCJADYsRuBPexW7PwwSxFE31aKpoyDIQ8TC/CIc2KDqOhcgoBJqAXfqPNnL3ogicYwZ5bJ/lbdk5sNJMAASTwFxiU8Fg71La71b3+fcvnyxfF0zfbZrsXL8fTPtIrZAqXaouDuobX2vEhKXwcI7CSR+WNxnOUNq04QEcrwnecuGSA5jNfRHPl9bMAq49mIq+2633mn46GDJC9cS55uE5ViZZvVAtt9l6zEpWW+u+aWXpXiRyxVwptbJn6s9c+3hd/bf/HLufwjGiOxC96G8ZwJjE8tAwGgBgTBomLIq9A+EkcoYQKaKMm1P2frU/f+Ok82kP5qI7qVJUwApBA6IghBSiZVGKghCaazPub8kbalYmnhFogOm9A9vZe2ZhSa1WC45pAkDDp0HhWpZzjrr987/f1+PE/uoXUzj0rmDKKzNFXzpF6ggGPXsG7FCLiNjZ0bL3AXIozzukTThEpgxWZDAUYJ5soWI1szTOdAO9Do6ZmjVrqVAkycHfpCcPMDmkCeFBc6dUJycw7EpEeBq4lvj1FxmW/PTFfD+/zP4odAZ31PX9I/Wmqi1UB+iB5CWCi7J7IKTio9oZ/fAOSF7QrtTNQsgjCR86/m7Rj1/hMEszg4qcksBI9ZARIsgoIK/NPCb3to6srdtOm7ZC0IDGhmzdmzW1AJOjLpzbCDRC/Z3cTs65QGbd+pruO6quzuvrM212GIC8DJd60L6vO1Ub9zM1GUiX9Ipgv8E+x/r1DUmGoXckfPD1Fv3zzuPza65f6LMI5BjApCrjjjlq+pthumcfGeKlhM+lZ83+vYZDSqoCCgl9TxNHEkQDGBEDnBUgQG4AlS+0u3vp/uHkPAkRMiIQQsR9t98XKgofDNxjlx68+BX9cJ1FzdxwNp5SYOPwJNHF8zbJscIraCdnRxrpEG6JB4LqMYHfXKtZJe1VzaokCVGEosl5rNVxAQWp0EAEAgFi+pVacEQeYn/riWve1tRlzgcgjl5Z47vv6EKdB0IBk0KmYt0g5aOWPYAG9q9LQy2fZs84xqNRbjNhm+ASXXEZaGyrJoGkq5RKyBycpo/lY91ax+QH19ixKL+MM6q1Ioft8aABD9gyez9QaMkseWX/rDxZp9dFyT48IqO7tFEcRwaIh1gUjwELMsEFyDmRCK9BaUYjComJBzRp/P6ygh74+cvIyfzFZsyBzVVfvJTd1v05olOUe5S7Aq91/jAg8F7h1aufU/V+Ca+o1kpOqDZitwOik/I9qpUI3J8RnlHu0yauMvoHgm6whUTygzEAEffKf/K2cR6i3l0UIqOgIIAutVmCT1IZ2zAOimiQMms9sljU9SFCgxPsmJEC9s2zkzy6sKqRT8FqYcPOlR7ZyNF5pgza3oU4Myfsnefnukdv0ObEq0GJEliQhbWZu0UACixCz8wLryjU/frbM5jXO9bJUTKHn64TBaiJxYGw2iw+bBHcQJsjL66bMYeH0NAYsrSjWfYnECWnCCBQBBGElCMTRVtkRXCP7rdkuwzBhRtvdeqZm2g28OP5e/pqQVIkzvYdHPvgf1t+m4zPi19aBVf0eC0j73pJ2ouwd7P0auS12tnZF+wYZJdnuOgiAjgIKQkScbBsDz2j2rK45clagYBokpbGa8MvFTh7+IU7HP/V82QbIvV2/kQNGkNGwLnIAryN9wlU95mG6ECyHKnrH4jcKbLiFYYDmcmIO3tlVPXtf/idStCh1TnJ21UpGF8sEN8KTsRYvSSY+r4LYog7OZLpKkwDoCDcr0//kgcjB3mUg4D1z3APPT8d1VOrdODXSaeK1yNqsy54jpUm6dhjrQsLb7qOXLWGJgwekE0k+dKWPUqN/sxhPfNUJc1eb9j/8SWViuULBz0lu7o+e8iivCmyavP3lttT8WLdBgo2f6ojigM9gLviqjyBk216jaMhJIoTBMAiMmxJLcY9j9+dad+26oYHgSJSWqkwHwBMHERETSIDN39GKT4sw2fxBtIAAJOWzkdg46w2HBMVHg8AdFzE4Whc3k8mRYXHAxNhEZioOB/jeIAq8JCeX+bx9uthyTV3xDCGKmRLytjjUb0yQG8zG8jRUTWbXte71Ovf8/BvVlcyqhyKZcvs/+pJjwZ3ROWIq3VOHxRes3q368Z+5x70+rXoxBb3vucDV66qWLJHLdf33vZAjT9+MB/ukgex3fDGnK2TpFisZPoD5+MRWnf3+X1Cedmc5bVGUB2UWBYMVJyTrnAreyY+xAvSFqrE+ZTF9ZDVSIGdJLkr57uxxvAAhhiW3pjlUL/usU/oxHvqE/0u9k/3fPrX05ngYfpczTAjfdbntclivkIFVHOXDBCqKViUVuSA29kL6scLrdYpPXVj25N/fj5/OYg/Lc9bMg4eCa3qMXV1NORylFWOp0vVujxj+oqjv+UE3dacjLUk89uc86o9yZANmav1vno5tGzywVZzxLrpPamauh884v6l5yDHyD6b/+C/hWlGfLDvigHHgcQX6OEo5ANT3kUjIKL0FJXD+DaNwfEYlLJPtOS53CtwvheDQgvI0/CUwLLAiJlVqzotTDf/8wffn+fMoPV4NViU4lSOuPHixMv236ZRbPjFy//bCeUqJq5S4C3li31X2UUCwtUbl3+mxW36w9an7vyv9y+7y5IvXrwZ3YhQZ7B3yQiQiFIUB+6jF9vnhDanXnVOOq/eLDp9/0Oey31F1RZaYcZlOn32YB9iGeDogUDKWUqSvbi6uJeCBalryWKJK/nJzv//3dS6mvaopqUbQv1dzXkyymVdOsVd/F9R2Z6W+JS7FE0wqJupRi2b4kit8qQg06I1tx/LGfUTi+6SxZTS5att6yeAK3HT27/AnXEiPYJZyMYSZSHhxWoX1RuCb61ydvLfdaNrnaveuOl5AVMSlEDNuiUuNPns9QyzakuFy9LNajcSodq5P8hbPPCL1/Qo1f6gfE+ua/f78tUMA2hXatbEhxXktbVt520duks8f9Xx8SV8CiQ4Y0ogk9ESZodsYSzYaWGphBstYfYdWxg7pprApOWQ66edfn68l+2mMRlgWQZYM6vcwj3+gvFxulRu5RQ7GUVGA6daS6Rg59QrkZn9EKedle9KgJ2L18ywYAduNsuFFXDhbgc++Mv/3un1v7O+nLSb4IbRF74zWz9pBlj4ZAI9NI9mjE1YCLHvTAaAhe/ADDMA1Zl8x96ZYRgD+lX3m/Hxh72vz4fZrZWF4GYW2CQWWIAYjmPjgeU4iLeABdstLHAs4liOi0GUshwAqTBGjgWOBY4FLs4jfypvdM37l+xnuZfehBJna0sdEaMBgFORScLI2gGMNH1VILxIF1ilv24HMGuERL4aIEaDvw/dEaMahLBoTPj2Ni934vsfMDzoZjl0FZdAxX8EYOZYfsNrXjEDcAmvmV9hwiLghRkJZkig2thXzAtjBUtfSTBDSDlI4C0unEwmcJdfgUYUcUXwwBJodXqeF91k67+8e/G3r9NdVK3hJSpT/o8f1ig2fafPqwoQ9CI90m6dG5Pap3XOliLGrdbB17H9jMjFhnu88/BbnR3rnpZiD3+J/0T9zDrWJUs/5CeTw597wfLOZAa4pyxEEJ2yzb/eq0UyLtWuHFMoNR4ujAjuZqlGWfhOPpdgZ3ltYBE8lAJLgpEl27s1+KjkpG5GNxtUEZUCysJrCsMUTvGpj4f7TzoLGdkoOwDHxiCO5ViWWiIreSpJXwAu3mM9gBHBUwlJLIqgMxp++3qVXuHSl5y9jyBb0v08YAZA6Te9+puCY9vgxiTXslcbFbg4jn1cXVFHnWr1mUeUDCu/fUU2KQ2ii+p1J2pWyCb+pGDhIfFR5YbfSvmsDvWGY+PHAAKgy2gVnWzXbvqndwcZwZkI3kKg1vrze5eRNQ4E7+EpGWhwevamGzv0rP6yLtmbdjT/GxrepexkznNVa2L+zsn7oaabfMD3EWFQauO25sB9qWZCtGSyrrQlcRMfSopPiuEH13ce9opMpOJHA++CoFeQaEJxjqM6ClKW0TmRrf1x5TodTCl5tuujXcpVzn3lqpXihd8nChd94s0ex3vesEaH61y1DuEQxyQgd/H+YQbfLcFl+H26C+knRq7SdJnDGufKOhOFnrn5ltOW4ZPlOsbGmvvAtTtPB01axBmsfDuZg9slXM8IGXWkb49rgvQFXSF98Ubtucx35okWnmdKm+SEAkdEpxdvjstMpUL5ipfVrjAzwlv0A0VBXU1iUA9D0oh3XJ8dtlci7s/IbpEco5sdutILBReUu4iPJgyZeS6QBETeEpYLE5R2tpakse6x7ZLVfswFX+DWpqyhx2FTesUntKsMAGGSy2il2JE8jko904X2QNcQXqQa3Rwy8OFs2f3ybzQreD0CBiOVXzbLzDu64T9H2y+OpszdTj27t5XHWukvNvtmtKC7nnMU7h4Wf/GcW29NBQDjMpdA0GV0aBz6oNM5/jf0aEuDSIZvvTEpN5boZI9Nf4mPTvCjV47Vwu4iPfAX01+XaiaaLhPvkRyRLIoPDdxHVCFkRqNtRlbfWsas/LGd9rREcqBkrKu5Xuizy8mGrmbpDM8Q6wwOwpgJ86lyyYkzI3+xXSfXWLrMUVV+5CvLJiaSXVo9n/1fvI00TBTCtXMH6u9b/RQipMcCMyp81q88v6c/doavHfGz3R2HDfvfsAXLd/SKb9I3VdbqsiWf5nnG59EKZ7KPqJSM4xKY38ytAtslcf5gr1JuCxZyCWzbLjJGeHaoduosE3Wa54lcC3lGM/7ADVC16vqB2c8/+Vpb2+KrBlSfvWck9WhbFol1jvisPNbcvOXizELlSk9t8Zhz4q7PNEmWKMocV/91blKhJECYkwQtLn6S6lz2P440xY+csxqTGOEJiwhkCV2kH9ASQReEMGVMUngsXcmfVPxxC75bwvP0fTzcQNMmMDYmECvV4RkuqASEPFfS6c3TIU+dVDvDAG+pc4BxDBhWscH1SIUrF4qVPCUCryItDAkTpyfQkPFgOkcO4nFUKP/OTXdeM0NJleOYYtIvhmMaSVSX10LqWmetKr7Yo9pudmM7aHjldvhnBFc73yLByinVKfGfLItK8k5YgyWTcDlJ/a8tTXnQMpe1qd/kvdRY5Mgw4/IxwXd0iouDXR84DWiEe0YHxY/yr3xOfFAnwUXQ3ZLvK1giI0qG62iqHkUYRf968v3sOHpnN3Jre/jr165POeLn9dWc5GbRrOP1jq736ap8SBinEiLlutTJodLjcfYvitkHKGUCGZPoQBqdmc+p12hBTjWzjDLAXysVCnilNlmabPzPMfLLJToR+JDt//j+/2R5lFkbvKP8aMHkTPPlPIWLOEFQ4Sq6inpUN3AHvZJJGIMRbvJ0D1Vt1tKFrFqiqtjjWmiruU8dxdj3KySRXkYKpNStmJxDm3NsNPAGIii26MukZO91hX86n0KOV3gUj65UqwHb8rV3Z0uDSy1Qlb0f9ApDGXRC2fyw90hOOjjJRkSGHrDjEpiTpIcubXb863v50esNC1jBhK+4ftTznf2jXxRQWjmNuqn4JNyd5x0bv89k4TmPKTXwroEbRE1QOtOt9CAFMiv/9YLgrtk3fKmjbfb4713ejxO/aQAufhz90b+S/Udl97bDDSw9DGNwFChuunT1bp8v1mL26O/+6CGyhxavQy9OYa/v/3C1Kz3ZfV7PiKHyWP9s3aI3eOJGYwmrkxJBfkvFarxmszh6wglrjUXa0md2qHM7LV/Hkou8xe09rjZS2G6sYZpQ88TVG/7fdUdfFMgMbhxizWwMtXQJ6ZcWKPgXWTVm/NDv2vPH99LHdsvI71Jr+BPJq/tXD/r8tVBj1CvkO+ky2TuAQB5Ooswku0rWGDTsFE4DpsqXUfNaguz9WOmSAOaADJ9YoqjXKXw+gtbDKHLQoywbtoBXXMPsByHl4oP0wC2YlTtSXdn4v1FvUG0xMtVkCw9SNN8R7Up4BTiY7LnIlDNmM8W81BcfVG672IVN3wzNusG3S7Wpe1j37Zgc9ECGK5MVW0o8KzwT9CBTJMwwj0M8UNxYelBjasDrpKte9H+vc1KfL6wyWGlUu6Xud6+uL11gj7m8KGZVH7vP56xdHSSSW2uNvqneyZOY4HtWG40JeFU+znAy9f73pUizX6z/vy87iiQUBtcLe9ZqTyS6BChKQbXyha4r+5fZ0VvYT9sgTImBw1YKMOY4TIRFNIz6ZHFUtINuODvmxxbFII6F2V+1m1kzq5nh4lVrR30iZ3nuqz6vJcMk9Qy3KGgvjgdkxty4AyzVmvUDM29BP2Q/Ae/jtaITMx6cDObn33lOsxZ+Y4bZMvmvGidbmMLsufCKas0fWfnAQs0a5VZPWElYzYp36FK1Mk86m67qJmNeMIctbhcDRyORxrOJrJ0DO8uRylkAOIBFLAAL8bSw8TYOwAIA8QA2GJ2DcRdzGDgMwGEAYM12AODYKDsAx4L5fWBmyZYpfhI47aR8L6D4r8q3AgJAvy8GAZgxcL0gAFh4kX/1x7iE2bMnw5MzEmbD7XIJZqqZkSA9oFnzihnGw5hQuD+KKO/nksyksmw8CxwAAAcAdmAXRdktUXbgLDD6IgsAAAdhUAYNWHy2I/S6tOpazQzVURf6KDbmwKG0pUrW+kI8FRMgJgn9E30ZNPKmqD1/PZao5XX1ITzfwrEQd/8kMwvc+AFzgPmLVPMQxyZO/kle823qNRywABwLAFzCO4JLNSvt/CvalUAEAA4YAADgMAdhU2ww8q7We+/NJxp98iqdiI/juhtvzlbzdBh2+vfHO9Ry6/V5p8MQXFRtq9rA68z+NvEB9YaHLM2vWXE0xzOyqNcE4RXJS/7jT7/Aa8kgOslbVOz4KokwnsSgR/ePnHXDkLL6CcVWwcKQwZ9OviCbGUUyLaUnWQ5YAJYDEy/ISx9Np/7hUlgn1Y7YOYy5KJYDDIC5sIkVCy/0JBd8JPmApxtNlW+5hfSodtwjbfoWN8LSVhov2qX/YOkleS74bVAnI8gNo7na5S/cvOHWantZuSlcfIfgSs+N19hkjNIg6Y4aMqT9mVEL5bdJlWomSeDGD0DDk8qLDeZ0hhO+feU0kfy/NnpMxqTqD0fbrzmpx4H3L0d8WukZM5iVW/jt27EzgLe0z2acex3bZglNqgz9lEmSF/7wt6jXfDXxbf3wNUZVa6kAYVMMevB8b8OMnCsWn6j/5KGPf1CVfXUI7YM/NJJ2V5UcwVQUhULTzDVdKYsGfZG71uLNabG0uKSDbE9RjnFiZ9P5uHGV46Fid+Bq7Pnn9/b55lWrHjccrbAtP+755v36r156gr5KmvEDZoLLixcO+0XPGFCr9ltufWXDNEVYd6QdPbdTa6LYld4jVwdaipn8x+O2beRt92LgoGgscvEq6eJqs2aJNiVQC+ryjG2GjKYjpbZ16vSN8rbb0oArJTfmEPUMx4VJgIYng5uD37vlI5me3KbfL7vPyv92ZemYbbWjBC3E2AKHwmA87POXVLvtWEcla9US1NpkrPT/4vwvuQj3/+z1cpmVPFI9Qxc/fKFsKMXfQg8a3Oe8kpYltmu9KwTUyLt9ri4NypUwXsQGI//aQz7MMqMe9JDOQZ+96r9ir83yJOufbLftebH2MxnvPOaSMmOJmgtrbEVvSM5Kqo2V50jThVojagwSGfg4ToiHf/nHvXehpNSplyVHPFlnTYsPGXJhg20HVg96l/0f/ugyeB+ESbEe3T9y/uCQd11yD3+hw5lc8+AvUUdNVK+gohbVSf+y62itH95VrUIseiY6Ro6ER4Nvyq+Kir+vAxV8VhwGqQiyFD6f6va2eapdM1KaZGPJ9hWedZqcTXYXjh+ARsG1g83+b7r3d6+hHq60Yu0/Zv+fNzOjyt+Pdt/QvOcR4z/u/c05yG76jG7Vc+bRfDIfLFVrrf9U8pJ8g2Gwph63jNU/pNdNPMpbbuKLB//speDSuvV6s9P73dZKpOpdV3luwIN7Ht/rhcUa+aZhkySq4S1p8CG5N6vopKoIise8nbf+/JCUfBFdol3BftoZCycHvH7t/+rQZfQ5T1J1ZOEiICMpFIj1OZMbqIwSnZ8RXfVHnuWBDlmixCQujB0vYNCZZE9tjK1P5K8lwBu7+TMb7F81+MK0SdX3q8NjT8ls8OmrunftTTMN1aiD4pHukSbxf8D5gzyXJaAbXPW9wySEvqzndcXwB9P+x/QzPqfhYlyGgTcEbSuuRUSyYUjYxCQ+20mOefLI/b9PpEv3d+zhB5ctM+/gNuy1afZjdPHGmHesEbHVrUVfPPkuwUnJsTQI5ldVILgYrLdA5VNkmloypick1U8dsrZ1rCVtCY1kMGuCHs14vAAmqiGW7PT0/jr3TXdVO6tqG8Qjv3t1vOYklf+xWn9Dy2UcNf7z7vmXaYrqf77Urm67fO2wYkjnBUqpklQLUYpj8vfeehtdJZ0ZEIVLUr6HMoOvuq4WCbMnUchRlClQGEV0tm0b3C1bBm8EpwNdh30dmSTrOC7Rbd+PqnVcWtakO4zVLENDvUmNcfiaJaZaNGtSxaIVqlmh2soO21KiyoNq0qyst62ArFXmPZt5kGKgH2hniq3xHtVNWsYLONrjAy2GXQ/W375Ub6QH7m/Y8emDnCIsW7fbH5Zg7Y5//3DT4+G+85DkXzpfPXlkg/RdVcNRrQLedD/RQ865X9myjQhLHOTLoVtLflytp+Fc5umOWtSF10AWNZGMOMwgBKY0wIjw7DvKDVQEWoUX+FdVW7Z8hikDH9dyVw549Tr4bvGW7P/lH9UbxIco9/XuljuvH1RtzbhQ6VjFjUtfOOjV6+A7KlyqWXdhjUN/8NsIqtxa/Lxe0M6BlVU7C+Y7INcoGgZFZzpG8TDXtYqdnODaQVNGwp89rVtgWPTFVrv41lr7lHYrrwHCFkyWOtP1Rl7zk39+BYc0eoTVR4PBw65dS7Pq9nK2XHyrB6P23SLCivummv37VKy003ugWREfkkgpblMkAMJVo9LA7BgKAGA2U8QH3hZsyg2YMpqZ4F1Jle1LGlBstURpJ+U7yFa50e8BSn+GI4NsD6fYQqBFuQmKAvkGLgqHSGERkHNSYCGQ/lJIABiRHnghnGqBKYQXBReUe5P9hPxW+b5u733b9zXOL9IDeviE7IbsF0C9Urkz/9HJip0rf4S3GPTA0kfke1xo9Y/Ib3F69kM/U5hqZ01kLNTARxG+HekyAIrLxOBJTNuavS3NPrpU43A4zd9u0Q5qKDlFBg4MnKfZu2EfHTIjXcA7BjDSAzDri/h3vgHfNJlM4ClBq10J/K7xB2MFC7I74Ll7+O1C2T1Pym55TbCo2mjmLxo+bP4bBrjdmiKave8ShmGEeIxm2Dho1x+fH/jxv3LPBzaVB5GVft7DHj/t//IRY09RkQ5J6Uw02vXHr5z2+NjzfOjRIwkhGotRYIc7GmWHO16lS475/Pzsl88aT2I8Bq8FhzLn1iUTXV7a9fZTtcEN6Fdd70C/6nonauoB9EPITjzfZd1ahOtnsGPE6Nk0FXtejXc54xwrmkAuBiJVXR+r4v0uLl20IoCaWnvmec68Pd5Ac5EjPx4TTEueO2vbAdPzgBIDTsB1AEFFzIkvijSU2FEramWazV+4SkEcsvmMy5Zaja43OYYSv+h8J77ofCe+6HyU2FoLs6o6MIBxGVFE78GvsMGBAiLTjBM5OLfdulXaNMXmstSP7qGl+NaQmmIT2C7vYfdry5En24RXX9iOsQiTRygQnBX9XCZlK175rRqBy+pO3Q6quWkSY3NZBq9cyV5YzYlsI2JzGcO2qu1HO/1Zoqqh9Rorfl+LuFyEsSkCMi1tPW3Hc62ZPBsb7zVP0lNpOx1SgB8b7zU7rpUS1JSM9gGYAfIFOkTB72uvhgXktbIt1yo5kPZ4sZE34OnaKplzcV8bE3kDDtSjSNdk9j4LYOwU0tcKjMcgABBo4M9u3/c0zW9Z8mNBmXx15ijbNUvb6FQsKJPc1k62Xbmb9S1GUCCcpkQlBYj+WzrbI9cdWxf5sQmS6jyd2hasZ8NTsVGBtpsz81Q2sNE+AIICEc/La8NeLGTdWWQ9KUmA0cm0sQO0n+HpDK0TGJ1Ma3ux9gi2p4sGekEItxIALGAGHsPM1oUZtSOUjYXJ5B/u3LADZ6otBfixMHWn0yncxd59pWfRKxjG9LkzjzKr//Z69JxzEQNyG6pTO9gLM90Mt4ghU523t/nPscOYgWwIt8u0s9W1mtkwz9R81lU+o5P36/diVIgj7Wl2F7pKjE7mNf/0FAtxBHtuS6aLUkF6BbyRx2T5OdtOYkL9yw002DI6DDxRyZvM4ZmNA8eDGJ3qjtHza2yqJ1EnHgZFt5kQ2SzEpx/PBMy2NoxvbHTGduOJ88HtKdxOeWu5ZGAQg9S7+0/I66aYXSpLKaFX0FQeS74dqhXtdmuFTDyZLSyC0dAbuTE3q03tQZpo0pNC1AK8EA/mSzuyHacwbKiB6+qOI5/jZ5E2r3N/uxa/7gUBoxFHjWubCQuyUoaBUQnwe7AK97D+W9TZjBqDZC8BxNZ2wpq2FfDcNVWy8InovVa85jx0t7FaVwGKBlLy2naovdSWY0rLUx6g6yC05L0z2Zt3XbO0s+WHCBC9wc9chEE2A0NFA6DvNz3WeRFzMRl/+WOS6CUUjdfWNtV9bEq9fgrrqWQMbFI+0tSfRPR+XerR+rmxdS+9Lx9f7hOQbGd/Ytl2dbbV9HbBkBioiPbmI0VYRM/KZvb0WSZtdR+lekyKvQqSxZ1mq/aqlZmVN/rRwZMQxnheDPqexmN5pKVrE03OKCuKriMMBj6QTawDD9E8dCQViw5mYDzPi8GAD2Hrbb1gM2cG60GKEHsFinupIWtrI1d/d3KlmxBQNKo7wvBAG5GsjSZg4KCDVH1trc+8dMcSINwvyHIz1iLX3jg1AyOG2iiqI6o7wbAO41BkAUVTDfbQn/+9/83/t9TkNFIk4uUaQHJAgEnV7c3n7WpnEQGxNDhIIUMMG5vZVCw+i/DXR1mKKKPGDj2YN+3kvq4IIoYGhxkRw8YMu6YWscV0cU4uhIj4OTBw3lS3UE32vHyKEgOvPfeksz3eZlcWaUSnlozJfZPsjg8RZVOgTG/k8DX5iU6mz49+7MZrgWRjo9PI84d6o3wi1gIUhwQikJJiJ1CC7yOGydbWGvzsBPaGVHRQcjAsRJRZUYJNIXp5Q/pjLK5h2fKjg7zB8CkwRqwWAMUXvjfyimlsXrZxwgYwZhCKKxZIAUmbRAwJgkIZFoorBkBKSNZeiBgSxYlYqxaAGrKc+MJUnsknXIfd9etJizIpkYg5y5KjEgn3K+LgX6HV9k7FF0LqlvbW5zC9srEAy0A5KXeVSYHVYV2Cqas/AQiMBwRYqRWPZiWbj05OoRXgE2WyscE9EQgxOqFEsTwTkWzOu59gzTWziowQLAwAVmwCBV+mctQ8HGT30xqTkcFeGagOdqqCbsBxD8PAGigayoAC4WYjt9EzvYNald9ajp8eDRDJPPt1g4pdIgxgKe+CQ1jQTmP+WalzA3tjQ0DBzW2BSj/lHd5J98iiSGkGKBp0hK8oRhDooqHVf8tlwLAT12rZwiaZHataVvI/qzA/68lWaERvnL2CI0uiUK3t1XfjAMOUjEdwRUKX2bQ1QYOxrhH8glXQzhcZDX/4Ay8hT1YWLj6YdxdtclMN2IMD7GbtDKbQFvXLF1lClUcFE4GkZUVmOSkXv7hldXxQhNd7UCe2saPoSi3cHrS+QGODa2hacFwiuzftyETl/TfX5VCO0FRutgS6Z6P2XJqMm0r8wF10b151kaVgmtmzKjCTIPmoyJlsyxSczv7W0rrLp0Av1cp66gS6ANcXrZ9ZTTtamgu3Cmphz1OgZgZeVIZfd3+e4a4BQLh3Pk1u+aK7AtaciXQTPrwn2fgQ1IxXaM+9tXTmABYVvBaNedzWZzgJgDJ2YMp94UPV614GXSJYk0GWOhnuCPyoUliR8x/JYXzaeSmBbnnXVLHWXQga3jHK+gLlDdhQtUsCr1KsyOhjgdM0bJensJR1UQgfAoLIwP31Iw1EV8jC01duOk3zA0NFIXnt+ft35d56yrTORZUU6I5c/s2/gttFS4Ge6WB7rEXaB+6BLCp2waRlU3h328q5tdtdyRTKrgS5gsYb2M621uGtI/dDAqMgmXz74mzLHbMJ//Ybwkkbyh0kyqKgAprlz++uZa0rjwXJlFihkdablifThXZaa5bJz+QqTNmBLOgG+K3tbP3O43b/8pMIkKwjoqW1dY9iCbazuVmdOWhuFxhRztHYoNW6jxBTGXaGHqd13dOzMfDqRFTsou8txdbcnuHvWkZf9Hdr0VA2fKJADJtzEeHy/38H7eBi3DwGeHVQVIL12tCJB7E589vMWoBpNL7ViY6FlG7omQI1uE/gZx2XPfU09wQ+sClLkqyDUNGLNrkER7Aa2wGMMy3K1AdSFvxvaO3iTuzFr3tOqcFeBAy8HXcAyToIUVPyzaVfvyfr8Dn/E1zZFWBFez081wGYuAFjsxK/MQHJgRIrOlL0PR8vYB+uuKJhVCPKapGJcJpBe8c1uBVTMQOANxCyjAqErMGsPJu3ft9xfLEcE857sY7mRkxMASwDGvmpn/rfTwg8H3GhTBrCiPvwrMJJlMkkHnbzp3IdjHUKUN2lQNJagYipQBn4cGUyoENn+9k50rJQapam4MYBJMc0Ix2SMlpkqooRSMGNSlpLETEXKE++dQGQJoNSNh1CLNogNQ6ATNHYZSQroqTv+S4gQIFwUqDg1qCyQSzKAtG4KBDEMgIGREVrUXbF83/LpcmNZGxsbNywRrQMsp7HyiVDiQhuBINpuKcbYFHuK5SWIEiNIBEFQkKabkIR1EiW7YAUZVROEuIzt/kfCvmeVcElwbYDm9aa4KfWJ9g22IAsg2P2tL75EBtiILgepSYSoMYdy6XIajTLpcmoEYyNjUHWdLKxcZnI8u1/qVUSq8PPkEgKdpBU4Ec31a26qP3YZ8ksBUNIIUmDBOHZv7r1HKZ0y0kx0m2mDlnVSy6VhyTFapwxsoMlO0YZNYJQKQ6RRhaSLSTEdJaQUJkQU6/5ZcCP/aaK2WOmTE36d32yKn5+v4p7NM1uuKbzcfL69YTSAV0umHfksZoD10RUipGTYuX2sxWqq87WLOt/yreNTJbKamwxshsUKT04yqghlqufbtQ7uoQxtk2SgKKTSEnhUoRLUijgMgHqliTKjXq6Hrjwor/736Nu/YdjH/bws0w0xSL3v03dxvfSZL827p/8cZ0nyIVd6250kUVyWdb/pvmE0o2Cinvvcv7PWL9rHmpn+vNtz7H/3EmU1ZhilCjy+DuduXNlj/NcdldIoqyG0OK7Yt+krvC6C9gpAUhEpd6xfTz86DDPguvHQLRliIRIQCFhnPeTlBEqq8MgladfZ8CPfObqC93ijnvtNteWl3sj29c/4TJX737Xrl51mLle95Dd9Nft3zv49u99wWw9vplVx35VaIgI0tZ7H/YR0dCdX7DwYd8QJKuxxCgrcoef61Cce+04YKa07SjfWi9LZTWkuuo71yb7jdXfEYqAQEKDntr5xov9zUEtLhpCkawop1KSRodUWVrk8KcRysgQ229e0MMvMfv7+81Uu9qRv5+rf5uO1/8pn1L0kC1d1Xax4hbP9QIPKKw2e/PsWgc/Y5fV6pZ8cnu7NOOk3smt5j8mCcVSnOW5/U4HbpelopEtDCiwgrNI0qYzPqjZkSekAFPefPEpXjBKEmUECDcnhOKRnSurDi34TkCntu33oP4QrV/5eysMiLHeqXvQp1fLNQa0ajfpeYaLi73/LuPVJ9ZDZaR6i++tpDne+OJJPnSv6L/6bWb9wlYqQJLJ7JxPYtKysl37nIuZ82du/kmXeMQVUWng3L6t7t6elEJRllFIcsd3PmyhJKKGmZhkuZhUJcSKDWe5tl/c89g5IBhFYPHtXjVrEkXDq2KRxYpVH57pQCY+kxe/eofmL+i9482rPtDnTTvPO988u33OpU+c930nvm7Gq6374zfssOpqO7z7lTSgzLpHcbDoyvy5Dk8DdvWoc87Y7N9CDsVo6B9SYmXVEIkFxb1mG6HzBRY6kdKtrDjOLTvUbFzb8oRckCwsZ7lOY+5xYadWKWYQJ/0p1n4+8rFWYMUgQmBk1AgmpK9otsA7qSyKUgPpi0Zaf/NCKpWS7/Ce5ZOnLvrBynFzeYaZ5wb/WH+d85z3/RNXHZiuvXDot/tWY2469cgT9jmo6nq+1EyP5rjOPdZ/GoO6jJhpKxyCcuq2VSEXx95ingXOcsL6CsHUVShpd1DTNariokM3b2Ew/fZ+X5HtP1WJMShoyp88bt53NM1VrjX75xOiheVC/lUdbpXESKnCzk32jhP4zFmYC5g0UCEKVkmbCzGjiNUQK6jLFbZeACBLZRAu5Pv0fPUbkohKuH/7XLbBh8+3WM9cMKu+utXR82x5/2E/rC/6jzvc8CFLznH4CBl0naTBRSjEx3nlZPWFF38ilBXRfm8JKfnoDV+3/iyV6xeSnxhp+52K3YtcbJ1X9n3qUEfOOeZki73MLWsgze/X8rj1V7ly2423jQjcoNjjoe89dIE23Zu9YoFRdoshteSYhsN2mvIqmc9igrzK//BErq9BHW0fppumUTBSRQAoWYlskM8F9KwVWAIkcYt9+qww/oZ3HUAKkk2ucMJrFmglyyUK87+dIoSqAf0RWXbCbq943BnrDJ4pTSUUKiMUHDMRs3Pc6fTP69v/ZiGqjBRZHyIQw+jN2q10Puf/cd2pPnguHwyjfTh/Qzz36U3T3mIJYO194tLrVqzUsjIeSQliNn7d+m8BWHOxt+64bAMEcvSh671ujJAqAZL9q69/sq5nB88htV8++QEzp/VAQgUoQPb7tuUGGs9dfgWyBF/m0QYo2QUmvsANjx9+nQ+f/r73NsC2JJ210K3zGTFYJVRR2z1EiruPu9nZaTdJm1//go/R9cTukFguFLXHm4rpHbYYECTJm640GpvuGhPjMiEEAqHQA4w5P1iABwcI/YeFEAUomrYQ8lCK4zNzb3tL4ojDwAO2TbcoFAUK1vW3vFQeJXn+FUvoufZt3uNmp8pg8+yqt/w1O0QVgeRXbZtFZ1Ubz3lJ7j2L5Wd+KWnBEkLIfaRbvuf2G4+/6BmrdSoEC7BSv/rNu6bBYBGF5aT/jd90IMfum2eBLcOiK80k9p5oEaWFnQ6b8OrjZm/PRQxp21yX+rd87tEfByoTlpGRQaZUAwZhQDIQMcKAQQZkYR9es0BwPUhJzjXmDZejVOFh7jRsDc75315rHhzgJ3ZRCm94y/S8F175J3r+j26hp9unXvYQPc3myZj65Wnt6zyixETrbnvAgyZbYNvMg34sPaHKNshi+BMOoAEQ6btTRkQKlcu/x9/QK3n5JAfkt75ol8jwr866Lp1e4PQ3j9P1H6tGScjzwsH33mS8YbZ+DjcIFMuEEAjE9ChKilIFiEYWSJOO8BIGERjCCgsOXRUQIJbvuNK2Rdhigp5C5y1TPdQig1915By6ctYuLK7t8YeUf/D8P7yABv+dvg05tJ3WuYV95Y14MANxTqtc6APv3ixxmhZoWn/feokAOfEWqyg1iFxrEB5E4SWXF069EeDWoI/CBoT2KwAeCJG2cFUaqjJh2ZSUrOnSUMvgaDF9TlmlJLWQpcGaeXALkMkVd5wc59xiDskac0IGnkbDPdpd2pyzlv2bf5OqAJRMfe2XfRXQluHNA5x3gHawQeeg4htXTK4bchFIeecmtgFkjnl4iALLIEsm2ggTQBiZktG2JCPLYEslZJUFoVgKiOlZCCJier0gEiVl9ViMtkIYvGTTPXf3WEwwG/Ddnzik8qt20wt4ft71FN69F5XJ8s8gxCdMORPlSFrhT8ru89UXTc8dtxnzZwbbEt637waTvzlTlORE/xyIpUlnb/psA0KAQIAoGSldpaAIIBCCSENFWQzx8HvUQMhftUijyw2z2tWd8z4jBjWaLLDbNu3Y3BFAHlaLXjmRiQ7Fu/Z4E6W8J/zRvpWf905/SOWa+rnzfK/8E/AJ05y61O7Wv6XG6R6KyWdSbsxfeStNCWNvOO9y+1cWzwIEpzebUJIB26FfAmCZ0mUx/VpGRhZlP8tPvOFHCjFUWSFCiBYQYohAiEaRox938gGzGkGIFmAhQFq+6XpXCFaJrOojw+5yroIUVNNvzzEKBbAEwxMZtvW6acPH7aA63NCC+os0Kv+M/J9Lfof4MttK9zM04ndvwjcO90sYENZcc88sJ4FDuu061RhjcLse7QUINQQxPQuBQDwfFJWdu1HSsV1W092ii/eucSy0o3U06hJadk+6n0HUgLqqoSyWVGuFaIHCwMt2eie2QGly0z6nvv4YEIt9Ky+lkCpJxt+C1U8bHBbkGB0DTpnM7cvgC+W/vNQeud9pv9TBq8xLyj9puuah4FKUWNN++z6zuRgFhPQZr3pFDJJlxXnnzhuw/MwBgPu2t6Yny7XNq2ui9XwAXKSkXzZzlu/0zo1qf7XFwPt/48V7Lt63otsCq6WL91x+rwv27zbr/rt5QPM7fdFI1XuGc6vbf81hgCQ3+4pZRBaOjn/w6gtUzl3TYoLJLtm2g1NbggAvdeX/0HamoGOtkrPz2wBK5R9kbG3zeUyQz+A2pPJ1V/tMeGQJCQ/a5ddtADvoA1/8rGKWOFFx7Imu7MxnIcS9VqR9ErM3XNqSLQXJFpbsSBCuWGmcXbZrGwYRQQqSLVllpP+/zJspW3uso4dblbv95mv2b/0VnLb4r7xlp86MP+f+f7HuT/LU0bd2HxbrspU2XbPTsud5Fff4iCmhNBl122O3q8wJ5DT0X7Z233+t3vblL95nW5Iicc6eb57Bi3P8/OCHgiBR/ouG1R/faj5zwfzgOz5nvW2pvD1ZiZKtab5szmGCAETqa464XjGNKXPOt9rbhQBqj3otKTmIJMXoEEnS6JCSpNFEsuLHVXPc0EpJ0mhHkjSCKKPuvlatQnuGmi/hYsmATfdMfNlj79u7c5JsMVrtASsm2do7mTwDVyLr3dK3Gzs5yxV3LSDAYrDTr/OK/18oAjh1uH7tJSoTFn3Uw0OKWIIAGtiGX3wPPECqACAa2/d37ElgZk8nu9Y8Mr8mo3NK4gc6/pdjBIx5/Uh11zt4t+NmusMyl507KwoEes7glv2I5z5xorjT3LHneJMes9OnpgdN0PPiN2ztZn+8Q68tcjR1swc0+JtQd3VO3b5D56OySyRpGam4SitKTaMKxWcMF6Mrhq7fI6DklC6DKRaTzboFqBqSYkcpCLk1pYqYjHDG7LedP4sR46hMzWvYcKnbkEQT5ywk7ef+kcOxnkBUiKKxGHBAOtkPzhUIaUAsAafPPnghMhp++lIXXWXbjrMuePhcqWSAtEu3mkzJ7pMc/FfHbvy61xTf+cLLrTfjoo9+7xK9J17gpB4fHHPZyd/4ODZfttmRv7r/urNvtfcuq8+9zUInrx4oozIhkqVCxKzvxg5J1Voz7xwLId3rXBXBU/c/emAqsBxx33Xnp7BNLAWjwj4LfGzB/6QyjWApS1n2zX9KlqfRDYb/f6/+Wt+TUEEASFY2bs/b4flWsCjRdrxHn10paUDJDv+04NizHTLmx1ZIolUiN9keaSCMpWtRsUPrjrc8/Php2pzUf5y39Z5q5O6Tevd+WdcbvJD2acVMH5u67QhPe8BoV6hc5mRQ2TDTPqFj5SBkA+sC0HHwS71+rvyE227e5d9b8OGL9r/egnv2X2Opj7iWigS5ViudsXTLTvnUpYhYTF77grE+b5eulBrTxY7dfSKyKqzSKFm5PQvAf9eXQsWpZOUbcMEvkLI4ZwHr9e1LGiyM0mSqCuo6Vh+cgShZ8aK3Jjmip9k1SYP11BGTmC1T2XqOELPOO296TKLQa23stHfAxeIjDs/SrMMDykpW3OMP2mSE4pqvbzEHz/nnhYq7TV7b/1Vt192qi8++Zt/0wwflhuvao9eycy21NqSd3fnIdbtf5ahKuQQEWu8b9+Yfzca7vu7NLWP2tE4T37vFlhfIUlmUyh/w+2Q/6X9/TQWCMfrYv+G3vE8iSinKS63DZvyTRYApghae0VCcxMcP3o22eJY4RwfbgSRVXGm7fx5xpCSt9J6zz1/o/5phBreymCVYWBJJ752LdTWPq8Rlw6KyDlD7aAEWT8w2KFo+03NgtG5ynnyIgCE/F9uMAKzX1yqFEu2QydmJD//6z/C6VdYMWbzK1l3Jilg0un3d/7cIb/i4VxoaW1GAHmz/6MO5N5/Vz/NZCohG/us/95//409EyT/++r+6IF8/0PgQS3DxvIIaLGDffSa7zUnwhu223/tAeN+WK7wl5hnvcQASpNWjvmnz+fv8y8hlBSwa3QhCDBEI0Y6QpAACoYducuzQq+7aN5QGQqz07NR8N6p7dlxtmL0hUTSi0an3fPS/5Qz89JBKoaLEJsvKkInJZlt+MYBQalHGf9sf/4Yb8IenYBJGvu0wjmAfrsPfei88XyAA7KrT3ndKISaH5J6NWWmhVidV9BvvlH2m2Hz5F21/0X1jhxUPeehT16bgUMAkdb1ftVTb+NIMlQ3LNFwYZECWAVmmdBlhwvqrnBZ6Xj3QEICChTG2AwAJEUBMF8jzMNqzYoVhQp8cATvxhe9rw7A+UUCE5+N0nsvQ48nEHz50Vv7sxyDp+wJRPLLawYcH4EJ9M3Icfko+3SateFGq6ofkYhuHhbYpXm6/AbxgtY+eQZEXNm+x5NSbXvj967qMPI8r4itQqnUOICCmZAySjJjuInzC+kmKFQXgBRNH4LdNgwGjgEAjH4BkASCZgoiSBSfQ8AhgAXYETAyXAgYyM6xNZCDzrP76tZ7+ry/QDAGGICwQ5ygAgoGzRkYyRgbGKQKgcwIgF9gGYLQng1hKAAlPAK0AsSSDSxHICgLLAiwLK8hyDAJZgc3ecNhezT/40TCDIIgQaVRRshaO1yHFkbYSLjRWolMijLWOAcBQ9PbhRmMhliCIpZQU02ckEokAQniFukKuxmIGWsav/qSiBMcp74KzOPdXrpee4zsVTpv5O76xcFqEsaOPpUdC4xA2vXh40vLtMyd/rFOmdSaZZhhLlEnhUANBM1Ci8b/qn50HV3413Pjmb/grngWdoYz/1n91PHDlH4MbP/y73+VZlgkjGSSjGSJ6/j784Kcs/qH2h9cGiv+XAluwgps0wiG9Or0Oe90+r35we4bKwlkZ+7YFeN0cT413UThBC8ip0DZCcipgEf3lk2/2fNlXHkp/oUwKREkxgyxP28Y88FP3mNxn9fW100dwi6QmuM7h4hqgPlLFLq4B6vvFpLomdOr+YJH/27P5rHclRYfEt75u6Q+t96mQAfXRxHycZVmIjY2N+ThAzMdjqoH6UvWrru93cTQ1NQi+u9uPPfWHZ2T58SrLxAy9yMJzj6kp7uU8ybr3JsS0Jm1SA86h9L6HWIdP7d5M/kAXSYKzpArhDZ82qPs9H9GbpggvsACqCROCMZ4bHkTpe4he/+c430x9By8bCXE4gRFIBnKujYkyb87g8GszPe1cRQbnQvUG5wKBaYKY7HrT6iIlxiaU9xtYkg4BpAoly6jEiprBC2c+M2CpIBRcW2mPMGgLhADH6qTLu9YXqcuaLsO5UBDgsmCS3W46XACMhvb9BYJPxmMlk4xN+s3Zp/1+LlwttprMF/U5z7wM8Or67yggxSS+v9nNWRdbfLX8J+0PeYkRCfeS0UHYDGwavGmlnUV3fLj5i/KlO++lJpjBDHCIz/gMnvTVip/1L7hIP2W+qMl9kqyUh/RD+ruXHzb6vQ0/6v402KhIxPVEjKlLMiqynX7KO+37qug0zwcdDifd+pTn/Ly/Psez8ebMw9+72p2006f+n8e9O+bNvlezPrNiTAC6hoheVdIr+3wk+8xGl4561ObykS1PLbNzqTU+IfXgcb8gbwdd+3v2uZr5SdYp9+x5r2u5zfmhdjnlpsWhY95/8ps/cMh1j//73PsXkz+sTowCAOO62AdSpZCe/LczbhZ+dtTNan/2iI/b7M+1z82edL9Z4w/r/OrIN8f+tOwvWv9w0JuXXl3zzqeefJP8FKHc1bmasM1/2Pe1blUa9dTjhVObUQs5Ntx6ZON7JAcuLtq9NO/Gl51+PPe0+Z9CzPnBsad1/7DyL/b6YcI7c17k39vu+6Z9OGfdevJXd/hs9mfND5GJQa9pLCEftwQXqw5WemJToezgLfqy3OQqh270xCGvuRjSFfoCkY2JKSrKUmGt4BTUBQ/GP4gCBYCYAsmy6GbciqcXYPazDKXLileKwro43Qc2KMoc2PotKeVykVK9fBZp1ImuogWbNQ8KxIQgbJwASEdThmQQfINi4KL/bXKaNQ24M+CeXPIrtCA24X9DKtGAQljEovEOm+QkBCpLd8qoSXjGX6QFT+yQYEGqGW1Qypezi1sZeIuuSDvwUb2iBDyVKVVUC4otLGLDSFGAUBINCDF26tdGivMBl2d8g7NEgfjESzJdQJa8IAXEIhjvoiTnKxlpm2azt/V/zePm66BqMTfqftEZfwMoUgICGARa+p+Kz8iChM6fer/ogl+XJWWq9AhiUdiIRUlfZudgBJqAnj4r9F3T8ZYLoYZ88GbpvMatvQhmC6/1K9pLSbCwaPwD+sG6g/rNKffkmaXtmeIByx7osqWz7bjFc+HCpT/Ob4PCDQUEy6ntoMFln9ARi4PQXhkGDlpvuDWxCLq+tMN2MRaxYSOknUgmyxY8WbL0Kj7Eg5KFFLyhEB5XbTb6/lwFGcsOmkImWTN4gvhEuUEHkRf/2gTjXRZpBumbPQdnQBNLhrxhlYFyR45QpmyWpivXKIQiOrXCoCMEwG+klSZzW0q1IsOFkjYZ1Ltvf6lhPalLu+LgGtGhBcLGFt3AC8pcmVr82tSgmbFUuJJsIRCWrtb/wv1/JmgFrX4GgCkM/3nZK6ITsltMaPyDwKIepIIdD2hXUM1r8h2sdlDlAkCCfkI9UTLUe+BFmZavNvzU/b6maFe+wbXc8cyhX7nRhfJNuuLzq13c9tl7k1DYiEVzFStY5QqdIFY58aGihV6DdwSvoYIFgjcAkMH+uHLG7w4eIBaNd4AFy2OBO1ACWBA8AoDgcdXA5xUCyW8fk+2RbVBNWExBO/77R35pLnokYA+L2LAJCygpyg5RdguwCMZIClgA0NQPr7ngWgtskSzY2Cg7sA4+sCywiB0fsIBYBuwAgBCLgEWRYAEA1gKj29BfWim4QYINWGRxWGKBtUwFQGETBKwA3gYAevDTgAAAECAbYhEAi36JVgSAgLWguQiAtbGITULjAwSsjb8QC5CgmWARAAIErI1NQjBGFuG/mgRoIgKEgFc4IiNZBGFUFiwjwK9AgKenFgAWIZzEJk17DJJYsEfFsiwCFkc+qhFXAJzgmHbvzF8WC8smsQBsEsuywI4rLDgCZGRg7fjNNDKRZRFiWYSC4JfvTUKIjWUTAACx8Jgv0AXLJjn+uTYEwwcsLJvEArBJLMsCG7YQLBxMyfJHFzyWOVSSJBKEQVPMnWoj6JwzF4aD5IwlCWI/PHViEgtJkU4HWu/aHTeRxxImmk4LBWVYSC+FF76LBxOTgE2aiExsFGLHmf//zKZDkReUxdxFVcBFTG8+NjcR3S2Ei5rFiqWuqtbVgwV9mC9USGJRkk18YVT4734e8P8guNA8HYBtF9q2zz6GPsKyjCb9D5FJLCC2FwIlRcmwVpH7imoG2W3iI8otI8R7gX/lpWBwOsoE/1ISggpZcDnCsjEf8JUYQDEDN6Q+SWlAkyC5oJ4ZDhlOylQuZeRuZuD5zAceimF54HxipLzqduAj9ASLxhGURC36Q2mo9gGfB2zIJjnx/LCJ5CA94r9DDt4XtDOBYNNan5D+hHLL3BjfDWqIQUkxX/v9EvAF0y9Yhon0QLAGhqWkQGp3f8E0XCQXIwnqeiAgPP13JRfogkW9EIDMQviU8wuqLQm8hR5b2i34FL7WWfOFY9J6cP4G4UBET22OnDhQTlwrCLYWqzakjZpGa9DcAzb4g2cRFN27kgNtN5zVuBSfCkpF0B5SyV8+ZMN75AA4ck3i/1l/pmlzTDh8x7Xi/MxcdhwBZE50kl9yat4GnzXHr9Skg0RfLLvQbWJUml43B4lcFYhqgCZvNhlIm+YbOqc8bbRCpx85ccNB9Gg5CYTy9zpN1PmLJzYH3+IHH+wsA6XzoMnKxnCU1J0IDjxsvOGw0KR7zIYzpkoPzGV7JeC1v34azSRaUEFxUMi5sMcg64vb/dSr7TYfXFsvDx/oI1D9zNahI71ReoUeuvf/ZN//KRFuCINBH7a/8it7DVKA/4YWoUpR6MjNm+4d7+0QlihuSvsUm13YsbleBoWTxVO2P1OJno0/I7zAjjNAZhF6iRzzVeVBXeRo8ur5zfoTe99wyKccXzT6jrsPDr0LfxkgewRRaDLZsrvESK9mT3U+Q8ONTQf92pZx8ytEOjRVhmNgZdjmSF7oTvl0QBgJg0NrWlV2eyGYXg/Xh9vCdgubYju4EcUn2LBFAkn/tXOjGapBeJUOxeDHJS8sueAy8Ag5UkEZAN6hYuEOWZ9YpugIN9thE2dnNVsxorjISnFN+/y3lYe+oWPhDaWekd9SrC2sKnEKJHiGcpL8SoZnsg16hs9XKJwncj6xktAShdA4Q+D9EoiRbdDq792d0/5xp7m5oXhIdUI38+eHi3soLxk/orihctGMXpX6jp5OqXbQoL29mS5fLvZe10GlMlnZEz1o6Q+ldpR6IY+qjTgIhCdlBhkvpHomb3U4dKflB6mOeF2oLK7wFEK9EiwrwlUw91tUWxL4V66+4U2daFYkCeChuxnKqAudqFqhWvn35shNBki50mNYVFYpWwWBvvGGmL6oCm8mvCsJLtbEJlGCHnqISJ+igAfqiclCmoRg3GUMFA8b/N1RX1RwIWHQDgElU/Xau4WqndFN6ATuna7c8BMfY4MgA3iXqmLZojzVgATUc39iqhSU4qTaFWoxOAtJ2SgQhIe0M/oSvTrlDe3ELIYyAwhTkkUUzMiRX9PmK3wSaDwEOvjYrW3nK+uc+Ua3I5ln3MsbT139iafOviFoofXF4VeL3fQ7+Cp3TfLglDcf8mSCr1760f4v7verPwtDC0KPpgmWq2DTtwx74BJYY6CfGHcYmDbj57Vzf1iz4gmLDjHC70NoBp+OXHr9qfX0qVMKzyLfis9UfVZ06ja/LOJk21GvW+MIT7nT6Zt1frX2Xzb6Yow3Z9xb5v+t/U8ded1skx4Q0gVxmX7uxS80nFFtPP8FkaWaMIUUmJp1vhq/FSR/Jr3rBg+aH6hf+l6MpMV35Zy44oWDwUcUV0rvAP926y3Juj0u7vTI4h9t8Kf1J3A4/a0pH0x0c71Ha/7/fu7M07UuQhmYvv3SRBbu0Q1qDvZb2Pg9fzsj6ALZsOw4giFePDzxubWtcshkuZer7HUpAAtEWGAsFlP62StP1hdec+uFbR/xljrv2H7qV458d49fGvew9p/79POPetM+73n6dwe8uv7hFD7krbv/4rDr+DLxTcyKRE9Xa+pd2fSCO3UvkpIw7hUQJAK0H7HWr7KG0Kd8+2Kf4SPm/YTyLRLZ9oFZm9zz1VuuEE2hNb/M1n1shzOqdJ9XuBY1a/zmkFdjHk1yvyJy7i35D0e9O+1mynsdLv5PvemTqKCZgS3U6cJNk1sOxAue0KiQDswIAUCokWtUErKoVmxwV/9git38LrZkxT+4988uvSFJO4ANb6GKx6HnGb9QcEW4Xv5chzOKcMOH2rd3Jg958T9OfS+Qymbzm9821Z12FygaS1SSyf+OlbYIrnSYrbgjPYgmLjnQb6kdoZIU10GkCELtDh8dCYLzNR6lt9QwgRRnwCAZLFfEvhEBlCwziNXMaKXqv5394ms+Ape9cbKLtJuCe95fq9dbEjBIQLowtGgYyy3tMzFESlyR7bEgABGXNblCACAIECDAUkkvsWwsqytiMf6pWBNICjYKFZx47fNasDuWHsR+l4erfg0fEUmVmp0+v+CeB2J7rAlmOYHaNn1vyQl9ratPbv+oYosFARKE+F1COvWexzcDwJCeBwCor6lHst4+g41lQT4BjwPA7wGKxZAe9+pZU49vrCHqa+prYsHOBu2oHLoV3V1ZyyLFN3+XxQTQ9GYv4yZ4gpHkFCWmEdo8H0wAAAu+DAAQy8ba6YZFsCAWQFmwCMGM3wMSVe8HUQ/VEPUAYBEkBa8oMLPbQ9ufQbs94j2hETABkPfRKXpSPCaxbfD86x78XLtXqEcZTVjyXV8DzRpDLIwePqS/O/Ww/7VUR0g6JLEl2vv7el5O21c1EDvaOMhmO7H+BXj99VgAoKbm87s+tu8rXSNkPEZft59x2OybW/y1FjGgc5EKbjEBliVwGoLR1S/93Kk3Z9wszVR41ilS03A9nn516/+717wILIKiUDJWh4sX11bHABjEgKbB6KrFMXPs66ZmwVN6UvGZmZTtWIO/KThNpISasA/H6985BvNlNVLGig5ZMw5PYmV2mfdjPNl8bp2H0iyG8ZhAMwO7cMih3jGMFHA5zM8Q36mmyLRkAiArwlnRN9dnR16cbHwcWkkZ87tm5AJDp3RoJgOGYhxGwHqp6w5ceA1cDBMDN3q0IhymYD1/SuDCi2ZjB86HCyWLOF3wjZxbMOsoaAO782eGpByjpQjHCfkyjuGIxCdzO35uFQb4dMxagfEZAQunsUkIA6AtmN7xMFIWdAgA4UaK1rkpC+ZiD27IPgyElVMU0euKTagl9APbYzmNCTEW5SRB51AnuCm+15mFKCBFp0D0wqJEX7C6w9P9n87dkFhOuBBDRHPoRBYdmZevzwDWsV5abFHDQXAkNIVdycVYocKwBcO8K5alsS3XYUxMLx3C3oDkgO3NSJIVBsKzfuOrlmPo/AhgLx2FNEoeVYEEB8B6SqGX3iIC/STFisIiEvA9iL1yQpQkiIpSFiUT/1WNbVUsBkEJAIMBVSQyxdXLl/JVk10T2IqElJnZghsD28sX6QAqFqV871IgAWAFR1kzIEYOUVaTnogCMQMqUAqiSdvYMmpYI1pG1vMblzACVMIysmhUIyOryUdIiOldPJ81SlKAJMVi+pWxEE2+ptCiu0uRS5FBWBampKTywiLEbNKK3CcPTGK0cHTE0SWEkWU5YkrKqAkmMMk3/FIhTSEISwRiEJCkD4+fGog4sNzAjg/9CY/wgDt+7mcERyApPuXMjQJEHCIlA2n7zi0DkUA0TbAiFHJFqBssOoq6fDEQAaV+cH4FYqisiYDKi8DT5/vqUehV0eyacwtQdP3HHx9FUqiJCEQ9h3GanZJSwcfjQZpkAHH0znXbZKP32rXdc+8TO2/kO1/iFN495cp3q3zMcJN2embL+SSUk85y+1d+Z0WatenyTcvdYb2+tOuz8j2GbN13svz8T979OgOP1kWS9O7ne9qZT/r0mts/svpCnyPUROMkbTvBUst1uvE6e/zZn8/47pWuOMLvfu9mPOj+3zG8L9jqp36x729+0BqVE8Fx6VFHdpomn/VbvV8/Sm8OP+Zt+1VX1J/xs2fs+wc/+bOdWDqrWvDkq7c+O7ebau/8lz3jkCQ20UhUjkHW5d1Tdh+J2v1Ofe0i3SMUc+5drKo+81l85TxEeWH0rdd7V6gHuRacow7SIhfIqFztC/pWrnTgo87TDLl/sXmP6GaZe+/4OEerSQYonhJiUvOc5jMn+TD3LGlqQCqk7nWjHx02fiOEcjI4Ln3dJZ1CZfNYIYEpkKu9xHntMMS6MdgEO6HY5V4ve2bvJSyaeEPRdlqpXEEtzu3g4KQOKXihuvlvc6CkcsJZ7p9yK9alof9Ey1GbCw4qRiW5ZnXNHZ0LCggUM3X/kaZtf+W2L0ukJp2SyrqPs0UNN78JhzMIJ05BRfP0znf99kWWGH0UTXlhnvrFC7yL9N3j3cHVVXnNMnSbCjcfomvb0QabaufhqtqlVdUTDUnd+dmxzUs3fesKI0ITjHGIQbKCarzjqfddZEWvsOfXTM4O9PruGTc6esdrLXolQeUEDukkm7ff9GG14+P/et9/Pu0qPStW/tdw+MXv+ZebLXvdtTv/2+vbTLp7BS2/+UtvesjKQ094S0fT5Bq57Bv5SCDVy8MOM2YvufQN8UoPytp8TwN6Ldy/9a9tXDl6GwrlpEWI1aeFXiuQpKMe/5ITVuienP2fmvY5YcUnTrXiZqHvL3So2Wu8Aj/dp7rtl2+z8xuwaIIVVQPpDqIlFbUfbStC6jaU9LC4/UYAoXICoyQFSPKEiwwO4GHo8szuvSBED7wC0Jz2FyAccx4IKVaTiyhQoGDsviRvjmcJYAEyyGABLC9kRxuUmhhUQkFDjWRbskxJGaKBaCLluMbIKgUBkdJFqaLHmBABVApiOhsbN7EIFCiwvLFskGUFybLs6EAEWYBlAEsWGAWiBZYtWZYhgMpbZCJGiAhCKKKIBaKhwhEECCIIEBIIIZEKu0ml3HbQaYW3J4j4H217h+j42CfPHTbUWEmUMYqODmjjtfsGyVgntjwoyAKfeNFTLJRkTPhsW+UsxLq7vjVRZOrczT82ckqg/kN6TdRjl4c/8KVAPexoIn7FpjNZEJw+oPcJSU4kMSy1yHlFFjvN4aF+X8EuV7H1qCcOzzStus9MHCJ79KEtfQXYYSE2bbdtTtSvnl+hHq3SY6pAllL8FTg/4PBj2uNc+oymK+fp91RdttvOqVWuIrtrF6+11Sbj9Fk1/+L5d12nw+x7tDqqVTZIyFe/Nf8DHY5a+LhPfNqP/WfaqpBis/DuR8y3yGrX/72dFxo4yRUPqduw7bDbfVfLbca/0+Az30rB5Sq27jC8xr/hpZZ+WV3dPFulWx5YqFhj5DaVyeDFgnc77hDmX3OdH7rOqJy29TglTuv4ygscttEjptjQH31h7+Uffurb6bjECzvMPqJzi5hyFtFiMPf9wC5DvxpmTwuHDlKXywGyIy8++HBfYvJFalaAyy5TiUz16heiqmaVTag+ZfRxmPmjeL9WpIOktG6gqHIVCUUtveFJHXu9s9jeMjIGZGvJ9xT03CUecmhlnnBhQJyjuaHQvCrIedOyGUqKli2ZclYbEfq8lMozXnxKIhSRECT9cdctoaZd9SpVgfQ/YomIUE1Yb63+PHTlVIBMqJFbFHD5iqBtbTj2DT3zy8eOBcwzXKjtXxurqiZpPfN19lmi5pilZht+t49wm8mEzYAM1zbdaatZNqvUKLTon1KZNY/3nYp2zR1cviI3m2X2r52wV13laP9+ApHr53rvylEd6Romuuj77vyamtYHhH1m+9P22bEtkejXGo3Ql1UX7vOS4xbv37kp7D4zHZJHEY+SVK5idNR6bLTlxs13dwtIeTn7wdUht29lKL783WuMjruveHxudyDCfODr0soLw46bsT7Q5kK0XXGzbpN1Dmn5igjL73CHnjqIJBpZQSAjuwaHrkMRUns/ApIgSGQKBx/69g36bR1CKoxCVjXxiEXL5SqQsb8w5FUeQZYglIRBNpJlI5CREXY8dZveZ15umCBKwbN/eFIAMLECiBDhYosQAULEoqGiEi0CDaxA92AUHIOiEaWKhkTCVRQowtWWQUY0TKCYaPlPRQI=)\n",
        "\n",
        "We will now be implementing each of the components as shown in the architecture, one by one."
      ],
      "metadata": {
        "id": "CloIYviuWkaS"
      }
    },
    {
      "cell_type": "code",
      "source": [
        "# @title Single Head Attention class\n",
        "\n",
        "# The Head class implements a single head of the self-attention mechanism, which is a crucial part of the Transformer architecture.\n",
        "# Self-attention allows the model to weigh the importance of different words in a sentence when encoding a particular word.\n",
        "# The key, query, and value are linear transformations of the input:\n",
        "# - Query: Represents the current word we are encoding.\n",
        "# - Key: Represents the words against which we are comparing the current word.\n",
        "# - Value: Holds the information to be aggregated based on the attention scores.\n",
        "# The attention scores are computed as the dot product of the query and key, determining how much focus to put on each word.\n",
        "# We use a mask to ensure each position only attends to previous positions and not future ones, maintaining causality.\n",
        "# The scores are then normalized using softmax to form probabilities.\n",
        "# The value vectors are then weighted by these probabilities to get the final output, which represents the self-attention result.\n",
        "# This mechanism allows the model to capture dependencies and relationships between words, enhancing its understanding of the context.\n",
        "\n",
        "\n",
        "class Head(nn.Module):\n",
        "    \"\"\" A single Head of Self-Attention \"\"\"\n",
        "\n",
        "    def __init__(self, head_size):\n",
        "        super().__init__()\n",
        "        self.key = nn.Linear(n_embd, head_size, bias=False)\n",
        "        self.query = nn.Linear(n_embd, head_size, bias=False)\n",
        "        self.value = nn.Linear(n_embd, head_size, bias=False)\n",
        "        self.register_buffer('tril', torch.tril(\n",
        "            torch.ones(block_size, block_size)))\n",
        "        self.dropout = nn.Dropout(dropout)\n",
        "\n",
        "    def forward(self, x):\n",
        "        B, T, C = x.shape\n",
        "        k = self.key(x)   # (B,T,C) - Batch by Time by Channel (vocab_size) tensor\n",
        "        q = self.query(x)   # (B,T,C)\n",
        "        # Compute Attention Scores (affinities) :\n",
        "        # (B,T,C) @ (B,C,T) -> (B,T,T)\n",
        "        wei = q @ k.transpose(-2, -1) * C**-0.5\n",
        "        wei = wei.masked_fill(\n",
        "            self.tril[:T, :T] == 0, float('-inf'))   # (B,T,T)\n",
        "        wei = F.softmax(wei, dim=-1)   # (B,T,T)\n",
        "        wei = self.dropout(wei)\n",
        "        # Perform the weighted aggregation of the values :\n",
        "        v = self.value(x)   # (B,T,C)\n",
        "        out = wei @ v   # (B,T,T) @ (B,T,C) -> (B,T,C)\n",
        "        return out"
      ],
      "metadata": {
        "id": "FSzw7vRnWfnA"
      },
      "execution_count": 15,
      "outputs": []
    },
    {
      "cell_type": "code",
      "source": [
        "# @title Multi-Head Attention class\n",
        "\n",
        "# The MultiHeadAttention class implements multiple heads of self-attention in parallel.\n",
        "# Multi-head attention allows the model to focus on different parts of the input sequence simultaneously,\n",
        "# capturing various aspects of the relationships between words.\n",
        "# This class initializes several Head instances, each representing a separate self-attention mechanism.\n",
        "# The forward method runs each head on the input and concatenates their outputs.\n",
        "# A linear layer (proj) is then applied to combine the outputs of all heads into a single tensor.\n",
        "# Dropout is used for regularization to prevent overfitting.\n",
        "# By using multiple heads, the model can capture different features and patterns in the data,\n",
        "# leading to better overall performance and understanding of the input sequence.\n",
        "\n",
        "\n",
        "class MultiHeadAttention(nn.Module):\n",
        "    \"\"\" Multiple Heads of Self-Attention in parallel \"\"\"\n",
        "\n",
        "    def __init__(self, num_heads, head_size):\n",
        "        super().__init__()\n",
        "        self.heads = nn.ModuleList([Head(head_size) for _ in range(num_heads)])   # create multiple self-attention heads\n",
        "        self.proj = nn.Linear(n_embd, n_embd)   # linear layer to combine the outputs of all heads\n",
        "        self.dropout = nn.Dropout(dropout)   # dropout layer for regularization\n",
        "\n",
        "    def forward(self, x):\n",
        "        out = torch.cat([h(x) for h in self.heads], dim=-1)   # concatenate the outputs of all heads\n",
        "        out = self.dropout(self.proj(out))   # apply the linear layer and dropout\n",
        "        return out   # return the combined output"
      ],
      "metadata": {
        "id": "gWcej40sYr_B"
      },
      "execution_count": 16,
      "outputs": []
    },
    {
      "cell_type": "code",
      "source": [
        "# @title FeedForward Network class\n",
        "\n",
        "# The FeedForward class implements a simple feedforward neural network layer used in the Transformer architecture.\n",
        "# This layer consists of two linear transformations with a ReLU activation in between, followed by a dropout layer.\n",
        "# The input is first transformed to a higher-dimensional space (4 times the embedding size) using a linear layer.\n",
        "# The ReLU activation function introduces non-linearity, which helps the model learn complex patterns.\n",
        "# The second linear layer reduces the dimensionality back to the original embedding size.\n",
        "# Dropout is applied to prevent overfitting by randomly setting some of the activations to zero.\n",
        "# This feedforward network is applied to each position independently, allowing the model to process information locally.\n",
        "\n",
        "\n",
        "class FeedForward(nn.Module):\n",
        "    \"\"\" A simple layer followed by a non-linearity \"\"\"\n",
        "\n",
        "    def __init__(self, n_embd):\n",
        "        super().__init__()\n",
        "        self.net = nn.Sequential(\n",
        "            nn.Linear(n_embd, 4 * n_embd),   # first linear transformation\n",
        "            nn.ReLU(),   # ReLU activation\n",
        "            nn.Linear(4 * n_embd, n_embd),   # second linear transformation\n",
        "            nn.Dropout(dropout),   # dropout for regularization\n",
        "        )\n",
        "\n",
        "    def forward(self, x):\n",
        "        return self.net(x)   # pass the input through the feedforward network"
      ],
      "metadata": {
        "id": "tkzaheEyb4z0"
      },
      "execution_count": 17,
      "outputs": []
    },
    {
      "cell_type": "code",
      "source": [
        "# @title Transformer Block class\n",
        "\n",
        "# The Block class represents a single Transformer block, which consists of two main components:\n",
        "# multi-head self-attention and feedforward neural network.\n",
        "# This block is designed to facilitate communication followed by computation.\n",
        "# It uses layer normalization and residual connections to stabilize and enhance training.\n",
        "# The multi-head attention mechanism helps the model focus on different parts of the input sequence simultaneously.\n",
        "# The feedforward network processes each position independently to add more complexity and depth to the model's understanding.\n",
        "# Residual connections ensure that gradients can flow through the network effectively,\n",
        "# reducing the risk of vanishing or exploding gradients and improving model performance.\n",
        "\n",
        "\n",
        "class Block(nn.Module):\n",
        "    \"\"\" Transformer Block : Communication followed by Computation \"\"\"\n",
        "\n",
        "    def __init__(self, n_embd, n_head):\n",
        "        # n_embd : embedding dimension, n_head: the number of heads in the self-attention layer\n",
        "        super().__init__()\n",
        "        head_size = n_embd // n_head\n",
        "        self.sa = MultiHeadAttention(n_head, head_size)   # multi-head self-attention\n",
        "        self.ffwd = FeedForward(n_embd)   # feedforward neural network\n",
        "        self.ln1 = nn.LayerNorm(n_embd)   # first layer normalization\n",
        "        self.ln2 = nn.LayerNorm(n_embd)   # second layer normalization\n",
        "\n",
        "    def forward(self, x):\n",
        "        # We implement residual connections in order to combat the optimization problems that may occur otherwise\n",
        "        x = x + self.sa(self.ln1(x))   # self-attention with residual connection\n",
        "        x = x + self.ffwd(self.ln2(x))   # feedforward network with residual connection\n",
        "        return x   # return the transformed input"
      ],
      "metadata": {
        "id": "VEk7Xfcbb7sX"
      },
      "execution_count": 18,
      "outputs": []
    },
    {
      "cell_type": "code",
      "source": [
        "# @title Language Model class\n",
        "\n",
        "# The LanguageModel class implements a Transformer-based language model.\n",
        "# It uses token and position embeddings to represent the input sequence in a high-dimensional space.\n",
        "# The model consists of multiple Transformer blocks, each containing multi-head self-attention and feedforward layers.\n",
        "# The forward method processes the input through these layers to generate predictions (logits) and optionally compute the loss.\n",
        "# The generate method allows the model to produce new text given an initial context by repeatedly predicting the next token.\n",
        "\n",
        "\n",
        "class LanguageModel(nn.Module):\n",
        "\n",
        "    def __init__(self):\n",
        "        super().__init__()\n",
        "        # each token directly reads off the logits for the next token from a lookup table\n",
        "        # i.e, Token embedding table to convert input indices to dense vectors\n",
        "        self.token_embedding_table = nn.Embedding(vocab_size, n_embd)\n",
        "        # Position embedding table to encode the position of each token in the sequence\n",
        "        self.position_embedding_table = nn.Embedding(block_size, n_embd)\n",
        "        # Stack of Transformer blocks for deep processing of the input\n",
        "        self.blocks = nn.Sequential(*[Block(n_embd, n_head=n_head) for _ in range(n_layer)])\n",
        "        # Final layer normalization for stabilizing the training\n",
        "        self.ln_f = nn.LayerNorm(n_embd)\n",
        "        # Linear layer to project the final hidden states to the vocabulary size\n",
        "        self.lm_head = nn.Linear(n_embd, vocab_size)\n",
        "\n",
        "    def forward(self, idx, targets=None):\n",
        "        B, T = idx.shape\n",
        "        # idx and targets are both (B,T) tensor of integers\n",
        "        # logits are basically predictions\n",
        "        # (B,T,C) - Batch (4) by Time (8) by Channel (vocab_size, i.e, 65) tensor\n",
        "        tok_emb = self.token_embedding_table(idx)   # Convert input indices to embeddings\n",
        "        pos_emb = self.position_embedding_table(   # Create position embeddings\n",
        "            torch.arange(T, device=device))   # (T,C)\n",
        "        # Add token and position embeddings\n",
        "        x = tok_emb + pos_emb   # (B,T,C)\n",
        "        # Pass through the stack of Transformer blocks\n",
        "        x = self.blocks(x)   # (B,T,C)\n",
        "        # Apply final layer normalization\n",
        "        x = self.ln_f(x)   # (B,T,C)\n",
        "        # Generate logits (predictions for the next token)\n",
        "        logits = self.lm_head(x)   # (B,T,vocab_size)\n",
        "        if targets is None:\n",
        "            loss = None\n",
        "        else:\n",
        "            # Reshape logits and targets for loss computation\n",
        "            B, T, C = logits.shape\n",
        "            logits = logits.view(B*T, C)\n",
        "            targets = targets.view(B*T)\n",
        "            # Compute the cross-entropy loss\n",
        "            loss = F.cross_entropy(logits, targets)\n",
        "        return logits, loss\n",
        "\n",
        "    def generate(self, idx, max_new_tokens):\n",
        "        \"\"\" Generate new tokens given an initial context \"\"\"\n",
        "        # idx is (B,T) array of indices in the current context\n",
        "        for _ in range(max_new_tokens):\n",
        "            # crop idx to the last block_size tokens\n",
        "            idx_cond = idx[:, -block_size:]\n",
        "            # get the predictions\n",
        "            logits, loss = self(idx_cond)\n",
        "            # focus only on the last time step\n",
        "            logits = logits[:, -1, :]   # becomes (B,C)\n",
        "            # apply softmax to get probabilies\n",
        "            probs = F.softmax(logits, dim=-1)   # (B,C)\n",
        "            # sample from the distribution\n",
        "            idx_next = torch.multinomial(probs, num_samples=1)   # (B,1)\n",
        "            # append sampled index to the running sequence\n",
        "            idx = torch.cat((idx, idx_next), dim=1)   # (B,T+1)\n",
        "        return idx"
      ],
      "metadata": {
        "id": "cX_8qLK3b-0y"
      },
      "execution_count": 19,
      "outputs": []
    },
    {
      "cell_type": "code",
      "source": [
        "# @title Initialize and Move Model to Device\n",
        "\n",
        "# Instantiate the LanguageModel\n",
        "model = LanguageModel()\n",
        "\n",
        "# Move the model to the specified device (GPU or CPU)\n",
        "m = model.to(device)"
      ],
      "metadata": {
        "id": "En2iSTCicC1U"
      },
      "execution_count": 22,
      "outputs": []
    },
    {
      "cell_type": "code",
      "source": [
        "# @title Training Loop\n",
        "\n",
        "# Create a PyTorch optimizer\n",
        "optimizer = torch.optim.AdamW(model.parameters(), lr=learning_rate)\n",
        "\n",
        "for iter in range(max_iters):\n",
        "    # Every once a while evaluate the loss on train and val sets\n",
        "    if iter % eval_interval == 0:\n",
        "        losses = estimate_loss()\n",
        "        print(\n",
        "            f\"Step {iter}: Training Loss is {losses['train']:.4f} and Validation Loss is {losses['val']:.4f}\")\n",
        "\n",
        "    # Sample a batch of data\n",
        "    xb, yb = get_batch(\"train\")\n",
        "\n",
        "    # Evaluate the loss\n",
        "    logits, loss = model(xb, yb)\n",
        "    optimizer.zero_grad(set_to_none=True)   # reset gradients\n",
        "    loss.backward()   # compute gradients\n",
        "    optimizer.step()   # update parameters"
      ],
      "metadata": {
        "colab": {
          "base_uri": "https://localhost:8080/"
        },
        "id": "24CP3-fXcMGx",
        "outputId": "f54880a6-2184-444a-ab22-6dd73594636d"
      },
      "execution_count": 23,
      "outputs": [
        {
          "output_type": "stream",
          "name": "stdout",
          "text": [
            "Step 0: Training Loss is 4.8551 and Validation Loss is 4.8473\n",
            "Step 750: Training Loss is 2.1157 and Validation Loss is 2.1656\n",
            "Step 1500: Training Loss is 1.7672 and Validation Loss is 1.8173\n",
            "Step 2250: Training Loss is 1.6256 and Validation Loss is 1.6691\n",
            "Step 3000: Training Loss is 1.5238 and Validation Loss is 1.5779\n",
            "Step 3750: Training Loss is 1.4661 and Validation Loss is 1.5250\n",
            "Step 4500: Training Loss is 1.4207 and Validation Loss is 1.4778\n",
            "Step 5250: Training Loss is 1.3887 and Validation Loss is 1.4470\n",
            "Step 6000: Training Loss is 1.3664 and Validation Loss is 1.4173\n",
            "Step 6750: Training Loss is 1.3405 and Validation Loss is 1.3957\n",
            "Step 7500: Training Loss is 1.3109 and Validation Loss is 1.3782\n",
            "Step 8250: Training Loss is 1.2930 and Validation Loss is 1.3585\n",
            "Step 9000: Training Loss is 1.2859 and Validation Loss is 1.3484\n",
            "Step 9750: Training Loss is 1.2634 and Validation Loss is 1.3343\n",
            "Step 10500: Training Loss is 1.2554 and Validation Loss is 1.3213\n",
            "Step 11250: Training Loss is 1.2499 and Validation Loss is 1.3053\n",
            "Step 12000: Training Loss is 1.2324 and Validation Loss is 1.3046\n",
            "Step 12750: Training Loss is 1.2294 and Validation Loss is 1.3001\n",
            "Step 13500: Training Loss is 1.2222 and Validation Loss is 1.2837\n",
            "Step 14250: Training Loss is 1.2126 and Validation Loss is 1.2822\n"
          ]
        }
      ]
    },
    {
      "cell_type": "code",
      "source": [
        "# @title Generate Text from the Model\n",
        "\n",
        "context = torch.zeros((1, 1), dtype=torch.long, device=device)\n",
        "print(decode(m.generate(context, max_new_tokens=500)[0].tolist()))"
      ],
      "metadata": {
        "colab": {
          "base_uri": "https://localhost:8080/"
        },
        "id": "eLzLUZC7iQkH",
        "outputId": "9e2e644d-ee3b-4031-b965-3919b6c9e5d8"
      },
      "execution_count": 32,
      "outputs": [
        {
          "output_type": "stream",
          "name": "stdout",
          "text": [
            "\tearful.\n",
            " Dad.\n",
            " Can we all see? Acting a top back from to the quiet.\n",
            " I like it must is getting by a go hould-- and it's not taken to find out, and this is whilaring us I and eat it.\n",
            " How does gone in there? Like a lot.\n",
            " The first ironitions ever feels trouble on that a bike.\n",
            " Di, you know, groce.\n",
            " For you really rultore the Partorson.\n",
            " I've never known I penieved that it was in a little exactly, enough of the-- Caper was hairs coming? My different recotion, And yeah, he assume married, she gets \n"
          ]
        }
      ]
    },
    {
      "cell_type": "code",
      "source": [
        "# @title Defining a function for inference\n",
        "\n",
        "def generate_text(input_string, max_new_tokens=500):\n",
        "    # Encode the input string to integers\n",
        "    input_indices = torch.tensor(encode(input_string), dtype=torch.long, device=device).unsqueeze(0)\n",
        "\n",
        "    # Generate from the model\n",
        "    generated_indices = model.generate(input_indices, max_new_tokens)\n",
        "\n",
        "    # Decode the generated integers back to a string\n",
        "    output_string = decode(generated_indices[0].tolist())\n",
        "\n",
        "    return output_string"
      ],
      "metadata": {
        "id": "HKVfOP_nmbn9"
      },
      "execution_count": 33,
      "outputs": []
    },
    {
      "cell_type": "markdown",
      "source": [
        "<h2>Inference</h2>\n",
        "\n",
        "Now that our model is trained, we test it out by providing any length of input to it (as long as it's a string)."
      ],
      "metadata": {
        "id": "YQOfcXKouqs3"
      }
    },
    {
      "cell_type": "code",
      "source": [
        "input_string = \"Hey everyone, \"\n",
        "output_string = generate_text(input_string)\n",
        "print(output_string)"
      ],
      "metadata": {
        "colab": {
          "base_uri": "https://localhost:8080/"
        },
        "id": "YYGioD5Qmeq6",
        "outputId": "044fead2-9882-4d34-9346-ae99be9f4a37"
      },
      "execution_count": 41,
      "outputs": [
        {
          "output_type": "stream",
          "name": "stdout",
          "text": [
            "Hey everyone, okay? Yeah, let's go.\n",
            " Relax, welcords, the worls.\n",
            " Okay, it's a fine.\n",
            " No no very slippy Mitchell.\n",
            " He's a little bit? So, and I know, sweetie, hey, have you and the wasking one? Um, I went to be fatched.\n",
            " - CHANIROA: Hey, Comin.\n",
            " Actually, too.\n",
            " I blindally hates today.\n",
            " Are you kiddize my dead for one, and something plans? Finally, because you told that it landle word we're not a mulian.\n",
            " What's distracted quartely.\n",
            " I got for a vast? Are you telling their is thimpened.\n",
            " He's fine.\n",
            " [sighsles\n"
          ]
        }
      ]
    },
    {
      "cell_type": "code",
      "source": [
        "input_string = \"My name is Phil Dunphy and I \"\n",
        "output_string = generate_text(input_string)\n",
        "print(output_string)"
      ],
      "metadata": {
        "colab": {
          "base_uri": "https://localhost:8080/"
        },
        "id": "RKS_bxkZna--",
        "outputId": "13c1d909-f359-4c90-b3e8-f07223ed7c1e"
      },
      "execution_count": 43,
      "outputs": [
        {
          "output_type": "stream",
          "name": "stdout",
          "text": [
            "My name is Phil Dunphy and I can just run off Jings.\n",
            " - One hobbies will by my poet? - Oh, Mm.\n",
            " - She's still giving her.\n",
            " What the else? That same said I'm a tacked? I know.\n",
            " I felt of hot, um, just winnex, and a real - you-and has cooked a law record for her, and noft you both myself and now an an accounts at the gream.\n",
            " Hmm.\n",
            " They're supposed to gloria toes? Oh, my God, cool, uh, you guys not remembering me reoombie.\n",
            " [Normal Klate Nowan.]\n",
            " So Cam's trying to take the dog to back in a school.\n",
            " Okay, figult best medies.\n",
            " \n"
          ]
        }
      ]
    },
    {
      "cell_type": "code",
      "source": [
        "input_string = \"When life gives you lemons, \"\n",
        "output_string = generate_text(input_string)\n",
        "print(output_string)"
      ],
      "metadata": {
        "colab": {
          "base_uri": "https://localhost:8080/"
        },
        "id": "Tn98Cz7-nx2v",
        "outputId": "12235703-8bcb-49fd-9ec1-ff3347135033"
      },
      "execution_count": 54,
      "outputs": [
        {
          "output_type": "stream",
          "name": "stdout",
          "text": [
            "When life gives you lemons, it's  Dylan.\n",
            " I, you know, that's when forget.\n",
            " Thank you.\n",
            "  Oh, yes.\n",
            " Pakers.\n",
            "  Aww!  Oh, it's a he-uh, spacily give some practice,  and some byg his composity cards  cassingle us in your counteerner,  in the heads will culved my Neffisulu!  Whoa, whoa, gum  has already droiugh the shorny othere.\n",
            "  Maybe call right, Harry No, Dod!  Daddy.\n",
            "  This is she.\n",
            "  It's going to find out exactly the babiet.\n",
            "  I'm coming a head for to a bride.\n",
            "  I-I know, tomo  Hey, don't love Speaking pames,   and marnin\n"
          ]
        }
      ]
    },
    {
      "cell_type": "code",
      "source": [
        "input_string = \"Life is full of changes. \"\n",
        "output_string = generate_text(input_string)\n",
        "print(output_string)"
      ],
      "metadata": {
        "colab": {
          "base_uri": "https://localhost:8080/"
        },
        "id": "nIytdjPipYIB",
        "outputId": "87c7021d-09e3-4022-d18d-d0a33ab8bab5"
      },
      "execution_count": 59,
      "outputs": [
        {
          "output_type": "stream",
          "name": "stdout",
          "text": [
            "Life is full of changes. Fair something over and I say.\n",
            "  It's embarrassing.\n",
            "  Oh, now's each on the same time of the skinnin-crapé.\n",
            "  (chistles)  - Why? - Who's a cheead?  I thinked him to look up to wear his family.\n",
            "  - Oh, my God.\n",
            " - Yeah! My rade drove!  This is not now my fat.\n",
            "  - Well, hone, guys, I am in? - What's that is like I was to gonna have  fire at?  Oh, there's not it to curreate and dancing right not by.\n",
            "  We're for almost my names cooking and right now.\n",
            "  - So it did it.\n",
            " - [Man, Phil.]\n",
            "  And she's anyt\n"
          ]
        }
      ]
    },
    {
      "cell_type": "markdown",
      "source": [
        "<h2>Conclusion</h2>\n",
        "\n",
        "The output generated by the model is not very coherent or accurate. This is primarily due to the limited compute resources used for training. Training sophisticated models like Transformers requires significant computational power and large datasets to achieve high-quality results. I trained this model on a relatively small dataset and on my laptop, which does not have the extensive computational resources necessary for such tasks.\n",
        "\n",
        "Despite these limitations, this notebook successfully demonstrates the implementation of the Transformers architecture from scratch. It highlights the model's ability to process and generate text based on learned patterns. With access to more substantial computational resources and a larger dataset, the model's output quality would significantly improve.\n",
        "\n",
        "In conclusion, this exercise has provided a deep understanding of the Transformers architecture and its implementation. The output quality, though not ideal, underscores the importance of compute resources in training advanced models. With proper resources, the potential of this model is truly remarkable.\n"
      ],
      "metadata": {
        "id": "W3QrlVyuu8Xy"
      }
    }
  ]
}